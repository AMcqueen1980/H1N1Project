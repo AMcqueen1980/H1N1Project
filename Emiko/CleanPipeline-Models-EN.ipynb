{
 "cells": [
  {
   "cell_type": "code",
   "execution_count": 1,
   "metadata": {},
   "outputs": [],
   "source": [
    "from sklearn.pipeline import Pipeline\n",
    "from sklearn.compose import ColumnTransformer\n",
    "\n",
    "\n",
    "import pandas as pd\n",
    "import numpy as np\n",
    "import matplotlib.pyplot as plt\n",
    "import seaborn as sns\n",
    "\n",
    "from sklearn.model_selection import train_test_split\n",
    "from sklearn.preprocessing import normalize,StandardScaler, OneHotEncoder\n",
    "from sklearn.linear_model import LinearRegression, LogisticRegression, Ridge\n",
    "from sklearn.metrics import log_loss\n",
    "from sklearn.metrics import mean_squared_error, r2_score\n",
    "from sklearn.ensemble import RandomForestClassifier\n",
    "from sklearn.neighbors import KNeighborsClassifier\n",
    "from sklearn.pipeline import Pipeline\n",
    "from sklearn.tree import DecisionTreeClassifier \n",
    "from sklearn.impute import SimpleImputer, KNNImputer\n",
    "from sklearn.compose import ColumnTransformer\n",
    "from sklearn.metrics import roc_curve, roc_auc_score\n",
    "\n",
    "from sklearn.dummy import DummyClassifier\n",
    "from sklearn.model_selection import cross_val_score, cross_validate\n",
    "\n",
    "\n",
    "from sklearn.tree import DecisionTreeClassifier \n",
    "\n",
    "from sklearn.ensemble import AdaBoostClassifier, GradientBoostingClassifier\n",
    "\n",
    "\n",
    "\n"
   ]
  },
  {
   "cell_type": "code",
   "execution_count": 2,
   "metadata": {},
   "outputs": [],
   "source": [
    "features_df = pd.read_csv('../Data/training_set_features.csv', index_col=\"respondent_id\")\n",
    "labels_df = pd.read_csv('../Data/training_set_labels.csv', index_col=\"respondent_id\")\n",
    "joined_df = features_df.join(labels_df, how = 'inner')"
   ]
  },
  {
   "cell_type": "code",
   "execution_count": 3,
   "metadata": {},
   "outputs": [],
   "source": [
    "# an all-in-one data cleaning function. Do this BEFORE OHE\n",
    "# Maybe this should be a class and worked into the pipeline?\n",
    "def datacleaner(maindataframe):\n",
    "    #For dropping whole columns \n",
    "    def columndrop(dataframe, column_list):\n",
    "        dataframe.drop(column_list, axis = 1, inplace=True)\n",
    "    #For dropping rows with na values\n",
    "    def basicdropna(dataframe, column_list):\n",
    "        dataframe.dropna(subset=column_list, inplace=True)\n",
    "    #For special case imputation\n",
    "    def impute_missing_data(dataframe, column_list, fillvalue):\n",
    "        for column in column_list:\n",
    "            dataframe[column].fillna(fillvalue, inplace = True)\n",
    "    #This creates a number of lists of columns that fall into a few different \n",
    "    #categories, that will be processed in different ways. See notes below on how\n",
    "    #these choices were made.\n",
    "    drop_columns =  ['employment_industry',  'employment_occupation', 'hhs_geo_region']       \n",
    "        \n",
    "    general_dropna = ['health_worker', 'education','income_poverty', 'marital_status', \n",
    "                    'rent_or_own', 'employment_status', 'household_adults', \n",
    "                    'household_children' ]\n",
    "        \n",
    "    survey_col = ['opinion_h1n1_vacc_effective', 'opinion_h1n1_risk', 'opinion_h1n1_sick_from_vacc',\n",
    "         'opinion_seas_vacc_effective', 'opinion_seas_risk','opinion_seas_sick_from_vacc']\n",
    "\n",
    "    behavior_col = ['behavioral_antiviral_meds', 'behavioral_face_mask',\n",
    "                'behavioral_large_gatherings','behavioral_outside_home']\n",
    "\n",
    "    behavior_col_2 = ['behavioral_avoidance', \n",
    "                'behavioral_wash_hands','behavioral_touch_face']\n",
    "\n",
    "    doc_rec = ['doctor_recc_h1n1','doctor_recc_seasonal']\n",
    "    \n",
    "    basicdropna(maindataframe, general_dropna)\n",
    "    columndrop(maindataframe, drop_columns)\n",
    "    impute_missing_data(maindataframe, survey_col, 3)\n",
    "    impute_missing_data(maindataframe, ['h1n1_concern'], 2)\n",
    "    impute_missing_data(maindataframe, ['h1n1_knowledge'], 0)\n",
    "    impute_missing_data(maindataframe, behavior_col, 0)\n",
    "    impute_missing_data(maindataframe, behavior_col_2, 1)\n",
    "    impute_missing_data(maindataframe, doc_rec, 0)\n",
    "    impute_missing_data(maindataframe, ['chronic_med_condition'], 0)\n",
    "    impute_missing_data(maindataframe, ['child_under_6_months'], 0)\n"
   ]
  },
  {
   "cell_type": "code",
   "execution_count": 4,
   "metadata": {},
   "outputs": [],
   "source": [
    "datacleaner(joined_df)"
   ]
  },
  {
   "cell_type": "code",
   "execution_count": 5,
   "metadata": {},
   "outputs": [],
   "source": [
    "X=joined_df.drop(['h1n1_vaccine','seasonal_vaccine'], axis=1)\n",
    "y=joined_df[['h1n1_vaccine','seasonal_vaccine']]\n",
    "\n",
    "# Train test split, do this before OHE\n",
    "\n",
    "X_train, X_test, y_train, y_test = train_test_split(X, y, test_size=0.3, random_state=42)\n"
   ]
  },
  {
   "cell_type": "code",
   "execution_count": 6,
   "metadata": {},
   "outputs": [],
   "source": [
    "# create OHE for objects, do this before imputer\n",
    "\n",
    "cat_col_list = [i for i in X_train.select_dtypes(include='object').columns]\n",
    "\n",
    "nb_list_for_ohe = ['h1n1_concern', 'h1n1_knowledge', 'opinion_h1n1_vacc_effective',\n",
    "'opinion_h1n1_risk', 'opinion_h1n1_sick_from_vacc', 'opinion_seas_vacc_effective',\n",
    "'opinion_seas_risk', 'opinion_seas_sick_from_vacc']\n",
    "\n",
    "# Fits OHE on a subset of columns, then reintegrates them into the\n",
    "# Origional dataframe. Do this after initial cleaning, before \n",
    "# health insurace imputation.\n",
    "\n",
    "ohe = OneHotEncoder(drop='first', sparse=False)\n",
    "\n",
    "def fit_trans_ohe(X_dataframe, columns):\n",
    "        \n",
    "    dums = ohe.fit_transform(X_dataframe[columns])\n",
    "    dums_df = pd.DataFrame(dums,\n",
    "                       columns=ohe.get_feature_names(),\n",
    "                       index=X_dataframe.index)\n",
    "    df_cat_dropped = X_dataframe.drop(cat_col_list, axis = 1)\n",
    "    dums_df_concated = pd.concat([df_cat_dropped, dums_df], axis=1)\n",
    "    return dums_df_concated\n",
    "\n",
    "#We should end up with a fitted ohe instance called 'ohe'"
   ]
  },
  {
   "cell_type": "code",
   "execution_count": 7,
   "metadata": {},
   "outputs": [],
   "source": [
    "X_train_ohe = fit_trans_ohe(X_train, cat_col_list+nb_list_for_ohe)"
   ]
  },
  {
   "cell_type": "code",
   "execution_count": 8,
   "metadata": {},
   "outputs": [],
   "source": [
    "    \n",
    "socio_economic_column_list = [\"x0_35 - 44 Years\",\"x0_45 - 54 Years\",\"x0_55 - 64 Years\",\"x0_65+ Years\",\n",
    "                              \"x1_< 12 Years\",\"x1_College Graduate\",\"x1_Some College\",\"x2_Hispanic\",\n",
    "                              \"x2_Other or Multiple\",\"x2_White\",\"x3_Male\", \"x4_> $75,000\", \"x4_Below Poverty\",\n",
    "                              \"x5_Not Married\", \"x6_Rent\", \"x7_Not in Labor Force\",\"x7_Unemployed\",\n",
    "                              \"x8_MSA, Principle City\",'x8_Non-MSA', 'health_insurance']\n",
    "\n",
    "# Fitting an imputer for Health Insurance using socio-economic features, \n",
    "# pulling from a dataframe that has already been OneHotEncoded\n",
    "\n",
    "\n",
    "soc_eco_h_i_imputer_knn = KNNImputer()\n",
    "\n",
    "def soc_eco_KNN_imputer(imputer, dataframe, column_list):\n",
    "    soc_econ_base = dataframe[column_list]\n",
    "    soc_econ_imputed = pd.DataFrame(imputer.fit_transform(soc_econ_base), \n",
    "                                         columns = soc_econ_base.columns,\n",
    "                                        index=soc_econ_base.index)\n",
    "    remainder_df = dataframe.drop(column_list, axis = 1)\n",
    "    output_df = remainder_df.join(soc_econ_imputed)\n",
    "    output_df.health_insurance = output_df.health_insurance.round() \n",
    "\n",
    "    return output_df\n"
   ]
  },
  {
   "cell_type": "code",
   "execution_count": 9,
   "metadata": {},
   "outputs": [],
   "source": [
    "X_train_imputed = soc_eco_KNN_imputer(soc_eco_h_i_imputer_knn, X_train_ohe, socio_economic_column_list)"
   ]
  },
  {
   "cell_type": "code",
   "execution_count": 10,
   "metadata": {},
   "outputs": [],
   "source": [
    "# The OHE for the test set only, takes X test dataframe and list of columns to encoded:\n",
    "def trans_ohe(X_dataframe, columns):\n",
    "    dums = ohe.transform(X_dataframe[columns])\n",
    "    dums_df = pd.DataFrame(dums,\n",
    "                       columns=ohe.get_feature_names(),\n",
    "                       index=X_dataframe.index)\n",
    "    df_cat_dropped = X_dataframe.drop(cat_col_list, axis = 1)\n",
    "    dums_df_concated = pd.concat([df_cat_dropped, dums_df], axis=1)\n",
    "    return dums_df_concated"
   ]
  },
  {
   "cell_type": "code",
   "execution_count": 11,
   "metadata": {},
   "outputs": [],
   "source": [
    "X_test_ohe = trans_ohe(X_test, cat_col_list+nb_list_for_ohe)"
   ]
  },
  {
   "cell_type": "code",
   "execution_count": 12,
   "metadata": {},
   "outputs": [],
   "source": [
    "def imputer_transform_only(imputer, dataframe, column_list):\n",
    "    soc_econ_base = dataframe[column_list]\n",
    "    soc_econ_imputed = pd.DataFrame(imputer.transform(soc_econ_base), \n",
    "                                         columns = soc_econ_base.columns,\n",
    "                                        index=soc_econ_base.index)\n",
    "    remainder_df = dataframe.drop(column_list, axis = 1)\n",
    "    output_df = remainder_df.join(soc_econ_imputed)\n",
    "    output_df.health_insurance = output_df.health_insurance.round()\n",
    "    \n",
    "    return output_df"
   ]
  },
  {
   "cell_type": "code",
   "execution_count": 13,
   "metadata": {},
   "outputs": [],
   "source": [
    "X_test_imputed = imputer_transform_only(soc_eco_h_i_imputer_knn, X_test_ohe, socio_economic_column_list)"
   ]
  },
  {
   "cell_type": "markdown",
   "metadata": {},
   "source": [
    "### We now have a working dataset of: \n",
    "    'X_train_imputed' and 'y_train' to fit models to, 'X_test_ohe' to generate predictions, and 'y_test' to validate models with."
   ]
  },
  {
   "cell_type": "markdown",
   "metadata": {},
   "source": [
    "### Baseline Model"
   ]
  },
  {
   "cell_type": "code",
   "execution_count": 14,
   "metadata": {},
   "outputs": [
    {
     "data": {
      "text/plain": [
       "0    0.783521\n",
       "1    0.216479\n",
       "Name: h1n1_vaccine, dtype: float64"
      ]
     },
     "execution_count": 14,
     "metadata": {},
     "output_type": "execute_result"
    }
   ],
   "source": [
    "y_train.h1n1_vaccine.value_counts(normalize=True) # =>Change to DummyClassifier  "
   ]
  },
  {
   "cell_type": "code",
   "execution_count": 15,
   "metadata": {},
   "outputs": [
    {
     "data": {
      "text/plain": [
       "0    0.531887\n",
       "1    0.468113\n",
       "Name: seasonal_vaccine, dtype: float64"
      ]
     },
     "execution_count": 15,
     "metadata": {},
     "output_type": "execute_result"
    }
   ],
   "source": [
    "y_train.seasonal_vaccine.value_counts(normalize=True)  # =>Change to DummyClassifier  "
   ]
  },
  {
   "cell_type": "markdown",
   "metadata": {},
   "source": [
    "### Decision Tree Classifier"
   ]
  },
  {
   "cell_type": "code",
   "execution_count": 16,
   "metadata": {},
   "outputs": [
    {
     "name": "stdout",
     "output_type": "stream",
     "text": [
      "Decision Tree, H1N1, cv ROC_AUC score:0.6542861497766187\n",
      "Decision Tree, Seasonal, cv ROC_AUC score:0.6833761115082385\n"
     ]
    }
   ],
   "source": [
    "\n",
    "# HlN1 \n",
    "\n",
    "dt_f = DecisionTreeClassifier(criterion='entropy', splitter='random')\n",
    "\n",
    "dt_f.fit(X_train_imputed, y_train.h1n1_vaccine)\n",
    "\n",
    "h1n1_dt = cross_val_score(dt_f, X_train_imputed, y_train['h1n1_vaccine'], scoring='roc_auc', cv=5).mean()\n",
    "\n",
    "#Seasonal Flu\n",
    "\n",
    "dt_sea = DecisionTreeClassifier(criterion='entropy', splitter='random')\n",
    "\n",
    "dt_sea.fit(X_train_imputed, y_train.seasonal_vaccine)\n",
    "\n",
    "sea_dt = cross_val_score(dt_sea, X_train_imputed, y_train['seasonal_vaccine'], scoring='roc_auc', cv=5).mean()\n",
    "\n",
    "print(f'Decision Tree, H1N1, cv ROC_AUC score:{h1n1_dt}')\n",
    "print(f'Decision Tree, Seasonal, cv ROC_AUC score:{sea_dt}')\n",
    "\n"
   ]
  },
  {
   "cell_type": "code",
   "execution_count": null,
   "metadata": {},
   "outputs": [],
   "source": []
  },
  {
   "cell_type": "code",
   "execution_count": null,
   "metadata": {},
   "outputs": [],
   "source": []
  },
  {
   "cell_type": "markdown",
   "metadata": {},
   "source": [
    "### KNN"
   ]
  },
  {
   "cell_type": "code",
   "execution_count": 17,
   "metadata": {},
   "outputs": [
    {
     "name": "stdout",
     "output_type": "stream",
     "text": [
      "KNN, H1N1, cv ROC_AUC score:0.7925370064623928\n",
      "KNN, Seasonal, cv ROC_AUC score:0.8282253347105135\n"
     ]
    }
   ],
   "source": [
    "# HlN1 \n",
    "\n",
    "knn_f_h1 = KNeighborsClassifier(n_neighbors=19, metric='manhattan')\n",
    "knn_f_h1.fit(X_train_imputed, y_train.h1n1_vaccine)\n",
    "\n",
    "h1n1_knn = cross_val_score(knn_f_h1, X_train_imputed, y_train['h1n1_vaccine'], scoring='roc_auc', cv=5).mean()\n",
    "\n",
    "# Seasonal Flu \n",
    "\n",
    "knn_f_s = KNeighborsClassifier(n_neighbors=27, metric='manhattan')\n",
    "knn_f_s.fit(X_train_imputed, y_train.seasonal_vaccine)\n",
    "\n",
    "sea_knn = cross_val_score(knn_f_s, X_train_imputed, y_train['seasonal_vaccine'], scoring='roc_auc', cv=5).mean()\n",
    "\n",
    "\n",
    "print(f'KNN, H1N1, cv ROC_AUC score:{h1n1_knn}')\n",
    "print(f'KNN, Seasonal, cv ROC_AUC score:{sea_knn}')\n",
    "\n",
    "\n"
   ]
  },
  {
   "cell_type": "code",
   "execution_count": null,
   "metadata": {},
   "outputs": [],
   "source": []
  },
  {
   "cell_type": "code",
   "execution_count": null,
   "metadata": {},
   "outputs": [],
   "source": []
  },
  {
   "cell_type": "markdown",
   "metadata": {},
   "source": [
    "### Logistic Regression"
   ]
  },
  {
   "cell_type": "code",
   "execution_count": 18,
   "metadata": {},
   "outputs": [
    {
     "name": "stdout",
     "output_type": "stream",
     "text": [
      "Logistic, H1N1, cv ROC_AUC score:0.8396361567842984\n",
      "Logistic, Seasonal, cv ROC_AUC score:0.8564571496480274\n"
     ]
    }
   ],
   "source": [
    "\n",
    "# H1N1 \n",
    "# {'C': 1.0, 'class_weight': 'balanced', 'max_iter': 1000000, 'penalty': 'l1', 'solver': 'saga'}\n",
    "\n",
    "\n",
    "log_f_h1=LogisticRegression(C=1,penalty=\"l1\", class_weight='balanced', max_iter=1000000,\n",
    "                              solver='saga')\n",
    "\n",
    "log_f_h1.fit(X_train_imputed, y_train.h1n1_vaccine)\n",
    "\n",
    "h1n1_log = cross_val_score(estimator=log_f_h1, X=X_train_imputed, y=y_train.h1n1_vaccine, \n",
    "                cv=5, scoring='roc_auc').mean() \n",
    "\n",
    "# Seasonal \n",
    "#{'C': 1.0, 'class_weight': 'balanced', 'max_iter': 10000, 'penalty': 'l1', 'solver': 'saga'}\n",
    "\n",
    "\n",
    "log_f_s=LogisticRegression(C=1,penalty=\"l1\", class_weight='balanced', max_iter=10000,\n",
    "                              solver='saga')\n",
    "log_f_s.fit(X_train_imputed, y_train.h1n1_vaccine)\n",
    "\n",
    "sea_log = cross_val_score(estimator=log_f_s, X=X_train_imputed, y=y_train.seasonal_vaccine, \n",
    "                cv=5, scoring='roc_auc').mean() \n",
    "\n",
    "\n",
    "print(f'Logistic, H1N1, cv ROC_AUC score:{h1n1_log}')\n",
    "print(f'Logistic, Seasonal, cv ROC_AUC score:{sea_log}')\n"
   ]
  },
  {
   "cell_type": "code",
   "execution_count": null,
   "metadata": {},
   "outputs": [],
   "source": []
  },
  {
   "cell_type": "code",
   "execution_count": null,
   "metadata": {},
   "outputs": [],
   "source": []
  },
  {
   "cell_type": "markdown",
   "metadata": {},
   "source": [
    "### GradientBoostingClassifier"
   ]
  },
  {
   "cell_type": "code",
   "execution_count": 19,
   "metadata": {},
   "outputs": [],
   "source": [
    "# H1N1 \n",
    "\n",
    "gbc_f_h1 = GradientBoostingClassifier(loss= 'exponential', learning_rate= .05, random_state = 14,\n",
    "                                                max_depth=3, max_features='log2', n_estimators=700)\n",
    "\n",
    "gbc_f_h1.fit(X_train_imputed, y_train['h1n1_vaccine'])\n",
    "\n",
    "h1n1_gbc = cross_val_score(gbc_f_h1, X_train_imputed, y_train['h1n1_vaccine'], scoring='roc_auc')\n",
    "\n"
   ]
  },
  {
   "cell_type": "code",
   "execution_count": 20,
   "metadata": {},
   "outputs": [
    {
     "name": "stdout",
     "output_type": "stream",
     "text": [
      "Logistic, H1N1, cv ROC_AUC score:[0.83926775 0.8413195  0.85579801 0.82667306 0.84817786]\n",
      "Logistic, Seasonal, cv ROC_AUC score:[0.86101862 0.85841588 0.85376613 0.86606036 0.85903635]\n"
     ]
    }
   ],
   "source": [
    "# Seasonal Flu\n",
    "\n",
    "gbc_f_s = GradientBoostingClassifier(loss= 'exponential', learning_rate= .05, random_state = 14,\n",
    "                                                max_depth=3, max_features='log2', n_estimators=700)\n",
    "\n",
    "gbc_f_s.fit(X_train_imputed, y_train['seasonal_vaccine'])\n",
    "\n",
    "sea_gbc = cross_val_score(gbc_f_s, X_train_imputed, y_train['seasonal_vaccine'], scoring='roc_auc')\n",
    "\n",
    "print(f'Logistic, H1N1, cv ROC_AUC score:{h1n1_gbc}')\n",
    "print(f'Logistic, Seasonal, cv ROC_AUC score:{sea_gbc}')\n"
   ]
  },
  {
   "cell_type": "code",
   "execution_count": null,
   "metadata": {},
   "outputs": [],
   "source": []
  },
  {
   "cell_type": "code",
   "execution_count": null,
   "metadata": {},
   "outputs": [],
   "source": []
  },
  {
   "cell_type": "code",
   "execution_count": null,
   "metadata": {},
   "outputs": [],
   "source": []
  },
  {
   "cell_type": "markdown",
   "metadata": {},
   "source": [
    "### ROC curve"
   ]
  },
  {
   "cell_type": "markdown",
   "metadata": {},
   "source": [
    "#### H1N1"
   ]
  },
  {
   "cell_type": "code",
   "execution_count": 21,
   "metadata": {},
   "outputs": [],
   "source": [
    "# Get predicted probability \n",
    "\n",
    "# DT\n",
    "y_pred_h1_dt = dt_f.predict_proba(X_test_imputed)[:, 1] #=> Error \n",
    "\n",
    "# KNN\n",
    "\n",
    "y_pred_h1_knn = knn_f_h1.predict_proba(X_test_imputed)[:, 1] \n",
    "\n",
    "# Log\n",
    "y_pred_h1_log = log_f_h1.predict_proba(X_test_imputed)[:, 1]\n",
    "\n",
    "# GBC \n",
    "\n",
    "y_pred_h1_gbc = gbc_f_h1.predict_proba(X_test_imputed)[:, 1]\n"
   ]
  },
  {
   "cell_type": "code",
   "execution_count": 22,
   "metadata": {},
   "outputs": [],
   "source": [
    "# Get the FPR and TPR data\n",
    "\n",
    "# DT\n",
    "fpr_dt, tpr_dt, thresholds_dt = roc_curve(y_test.h1n1_vaccine, y_pred_h1_dt)\n",
    "\n",
    "# KNN\n",
    "fpr_knn, tpr_knn, thresholds_knn = roc_curve(y_test.h1n1_vaccine, y_pred_h1_knn)\n",
    "\n",
    "# Log\n",
    "fpr_log, tpr_log, thresholds_log = roc_curve(y_test.h1n1_vaccine, y_pred_h1_log)\n",
    "\n",
    "# GBC \n",
    "fpr_gbc, tpr_gbc, thresholds_gbc = roc_curve(y_test.h1n1_vaccine, y_pred_h1_gbc)\n",
    "\n"
   ]
  },
  {
   "cell_type": "code",
   "execution_count": 23,
   "metadata": {
    "scrolled": true
   },
   "outputs": [
    {
     "data": {
      "image/png": "[encoded data removed]",
      "text/plain": [
       "<Figure size 1080x576 with 1 Axes>"
      ]
     },
     "metadata": {
      "needs_background": "light"
     },
     "output_type": "display_data"
    }
   ],
   "source": [
    "\n",
    "# Plot the FPR and TPR data\n",
    "\n",
    "fig, ax = plt.subplots(figsize=(15, 8))\n",
    "\n",
    "ax.plot(fpr_dt, tpr_dt, alpha =1, \n",
    "        label=f'DT: AUC ={round(roc_auc_score(y_test.h1n1_vaccine, y_pred_h1_dt),4)}')\n",
    "\n",
    "ax.plot(fpr_knn, tpr_knn, alpha =1, \n",
    "        label=f'KNN: AUC ={round(roc_auc_score(y_test.h1n1_vaccine, y_pred_h1_knn),4)}')\n",
    "\n",
    "\n",
    "ax.plot(fpr_log, tpr_log, alpha =1, \n",
    "        label=f'Log: AUC ={round(roc_auc_score(y_test.h1n1_vaccine, y_pred_h1_log),4)}')\n",
    "\n",
    "ax.plot(fpr_gbc, tpr_gbc, alpha=1,\n",
    "       label=f'GBC: AUC ={round(roc_auc_score(y_test.h1n1_vaccine, y_pred_h1_gbc),4)}')\n",
    "\n",
    "ax.plot([0, 1], [0, 1], color='grey', linestyle='--')\n",
    "\n",
    "ax.set_ylabel('True Positive Rate', fontsize=15)\n",
    "ax.set_xlabel('False Positive Rate', fontsize=15)\n",
    "ax.set_title('H1N1 Vaccination Prediction', fontsize=15)\n",
    "    \n",
    "ax.legend(fontsize=15)\n",
    "\n",
    "plt.xticks(fontsize=15)\n",
    "plt.yticks(fontsize=15)\n",
    "plt.tight_layout();"
   ]
  },
  {
   "cell_type": "code",
   "execution_count": null,
   "metadata": {},
   "outputs": [],
   "source": []
  },
  {
   "cell_type": "markdown",
   "metadata": {},
   "source": [
    "#### Seasonal Flu"
   ]
  },
  {
   "cell_type": "code",
   "execution_count": 24,
   "metadata": {},
   "outputs": [],
   "source": [
    "# Get predicted probability \n",
    "\n",
    "# DT\n",
    "y_pred_s_dt = dt_sea.predict_proba(X_test_imputed)[:, 1]\n",
    "\n",
    "# KNN\n",
    "\n",
    "y_pred_s_knn = knn_f_s.predict_proba(X_test_imputed)[:, 1]\n",
    "\n",
    "# Log\n",
    "y_pred_s_log = log_f_s.predict_proba(X_test_imputed)[:, 1]\n",
    "\n",
    "# GBC \n",
    "\n",
    "y_pred_s_gbc = gbc_f_s.predict_proba(X_test_imputed)[:, 1]\n"
   ]
  },
  {
   "cell_type": "code",
   "execution_count": 25,
   "metadata": {},
   "outputs": [],
   "source": [
    "# Get the FPR and TPR data\n",
    "\n",
    "# DT\n",
    "fpr_dt, tpr_dt, thresholds_dt = roc_curve(y_test.seasonal_vaccine, y_pred_s_dt)\n",
    "\n",
    "# KNN\n",
    "fpr_knn, tpr_knn, thresholds_knn = roc_curve(y_test.seasonal_vaccine, y_pred_s_knn)\n",
    "\n",
    "# Log\n",
    "fpr_log, tpr_log, thresholds_log = roc_curve(y_test.seasonal_vaccine, y_pred_s_log)\n",
    "\n",
    "# GBC \n",
    "fpr_gbc, tpr_gbc, thresholds_gbc = roc_curve(y_test.seasonal_vaccine, y_pred_s_gbc)\n",
    "\n"
   ]
  },
  {
   "cell_type": "code",
   "execution_count": 27,
   "metadata": {},
   "outputs": [
    {
     "data": {
      "image/png": "[encoded data removed]",
      "text/plain": [
       "<Figure size 1080x576 with 1 Axes>"
      ]
     },
     "metadata": {
      "needs_background": "light"
     },
     "output_type": "display_data"
    }
   ],
   "source": [
    "\n",
    "# Plot the FPR and TPR data\n",
    "\n",
    "fig, ax = plt.subplots(figsize=(15, 8))\n",
    "\n",
    "\n",
    "ax.plot(fpr_dt, tpr_dt, alpha =1, \n",
    "        label=f'DT: AUC ={round(roc_auc_score(y_test.seasonal_vaccine, y_pred_s_dt),4)}')\n",
    "\n",
    "ax.plot(fpr_knn, tpr_knn, alpha =1, \n",
    "        label=f'KNN: AUC ={round(roc_auc_score(y_test.seasonal_vaccine, y_pred_s_knn),4)}')\n",
    "\n",
    "ax.plot(fpr_log, tpr_log, alpha =1, \n",
    "        label=f'Log: AUC ={round(roc_auc_score(y_test.seasonal_vaccine, y_pred_s_log),4)}')\n",
    "\n",
    "ax.plot(fpr_gbc, tpr_gbc, alpha=1,\n",
    "       label=f'GBD: AUC ={round(roc_auc_score(y_test.seasonal_vaccine, y_pred_s_gbc),4)}')\n",
    "\n",
    "ax.plot([0, 1], [0, 1], color='grey', linestyle='--')\n",
    "\n",
    "ax.set_ylabel('True Positive Rate', fontsize=15)\n",
    "ax.set_xlabel('False Positive Rate', fontsize=15)\n",
    "ax.set_title('Seasonal Influenza Vaccination Prediction', fontsize=15)\n",
    "    \n",
    "ax.legend(fontsize=15)\n",
    "\n",
    "plt.xticks(fontsize=15)\n",
    "plt.yticks(fontsize=15)\n",
    "plt.tight_layout();"
   ]
  },
  {
   "cell_type": "code",
   "execution_count": 49,
   "metadata": {},
   "outputs": [
    {
     "data": {
      "text/plain": [
       "(6559, 71)"
      ]
     },
     "execution_count": 49,
     "metadata": {},
     "output_type": "execute_result"
    }
   ],
   "source": [
    "X_test_imputed.shape"
   ]
  },
  {
   "cell_type": "code",
   "execution_count": 48,
   "metadata": {},
   "outputs": [
    {
     "data": {
      "text/plain": [
       "(6559, 32)"
      ]
     },
     "execution_count": 48,
     "metadata": {},
     "output_type": "execute_result"
    }
   ],
   "source": [
    "X_test.shape"
   ]
  },
  {
   "cell_type": "markdown",
   "metadata": {},
   "source": [
    "### Predicted probability across ethnicity "
   ]
  },
  {
   "cell_type": "code",
   "execution_count": null,
   "metadata": {},
   "outputs": [],
   "source": [
    "# Use GBD model for analysis "
   ]
  },
  {
   "cell_type": "code",
   "execution_count": 51,
   "metadata": {
    "scrolled": true
   },
   "outputs": [],
   "source": [
    "# Assign a new data frame df \n",
    "\n",
    "df = X_test.copy()\n",
    "\n",
    "# Merge y_test \n",
    "\n",
    "df = pd.concat([df, y_test], axis=1) \n",
    "\n",
    "# Add predicted probabilities \n",
    "\n",
    "# H1N1 \n",
    "df['h1n1_prob_0'] = gbc_f_h1.predict_proba(X_test_imputed)[:,0] \n",
    "df['h1n1_prob_1'] = gbc_f_h1.predict_proba(X_test_imputed)[:,1]\n",
    "\n",
    "# Seasonal Flu\n",
    "df['seasonal_prob_0'] = gbc_f_s.predict_proba(X_test_imputed)[:,0] \n",
    "df['seasonal_prob_1'] = gbc_f_s.predict_proba(X_test_imputed)[:,1]\n"
   ]
  },
  {
   "cell_type": "code",
   "execution_count": 52,
   "metadata": {
    "scrolled": true
   },
   "outputs": [
    {
     "data": {
      "text/html": [
       "<div>\n",
       "<style scoped>\n",
       "    .dataframe tbody tr th:only-of-type {\n",
       "        vertical-align: middle;\n",
       "    }\n",
       "\n",
       "    .dataframe tbody tr th {\n",
       "        vertical-align: top;\n",
       "    }\n",
       "\n",
       "    .dataframe thead th {\n",
       "        text-align: right;\n",
       "    }\n",
       "</style>\n",
       "<table border=\"1\" class=\"dataframe\">\n",
       "  <thead>\n",
       "    <tr style=\"text-align: right;\">\n",
       "      <th></th>\n",
       "      <th>h1n1_concern</th>\n",
       "      <th>h1n1_knowledge</th>\n",
       "      <th>behavioral_antiviral_meds</th>\n",
       "      <th>behavioral_avoidance</th>\n",
       "      <th>behavioral_face_mask</th>\n",
       "      <th>behavioral_wash_hands</th>\n",
       "      <th>behavioral_large_gatherings</th>\n",
       "      <th>behavioral_outside_home</th>\n",
       "      <th>behavioral_touch_face</th>\n",
       "      <th>doctor_recc_h1n1</th>\n",
       "      <th>...</th>\n",
       "      <th>employment_status</th>\n",
       "      <th>census_msa</th>\n",
       "      <th>household_adults</th>\n",
       "      <th>household_children</th>\n",
       "      <th>h1n1_vaccine</th>\n",
       "      <th>seasonal_vaccine</th>\n",
       "      <th>h1n1_prob_0</th>\n",
       "      <th>h1n1_prob_1</th>\n",
       "      <th>seasonal_prob_0</th>\n",
       "      <th>seasonal_prob_1</th>\n",
       "    </tr>\n",
       "    <tr>\n",
       "      <th>respondent_id</th>\n",
       "      <th></th>\n",
       "      <th></th>\n",
       "      <th></th>\n",
       "      <th></th>\n",
       "      <th></th>\n",
       "      <th></th>\n",
       "      <th></th>\n",
       "      <th></th>\n",
       "      <th></th>\n",
       "      <th></th>\n",
       "      <th></th>\n",
       "      <th></th>\n",
       "      <th></th>\n",
       "      <th></th>\n",
       "      <th></th>\n",
       "      <th></th>\n",
       "      <th></th>\n",
       "      <th></th>\n",
       "      <th></th>\n",
       "      <th></th>\n",
       "      <th></th>\n",
       "    </tr>\n",
       "  </thead>\n",
       "  <tbody>\n",
       "    <tr>\n",
       "      <th>15045</th>\n",
       "      <td>0.0</td>\n",
       "      <td>1.0</td>\n",
       "      <td>0.0</td>\n",
       "      <td>1.0</td>\n",
       "      <td>0.0</td>\n",
       "      <td>1.0</td>\n",
       "      <td>0.0</td>\n",
       "      <td>0.0</td>\n",
       "      <td>1.0</td>\n",
       "      <td>0.0</td>\n",
       "      <td>...</td>\n",
       "      <td>Not in Labor Force</td>\n",
       "      <td>Non-MSA</td>\n",
       "      <td>1.0</td>\n",
       "      <td>0.0</td>\n",
       "      <td>0</td>\n",
       "      <td>0</td>\n",
       "      <td>0.920988</td>\n",
       "      <td>0.079012</td>\n",
       "      <td>0.346503</td>\n",
       "      <td>0.653497</td>\n",
       "    </tr>\n",
       "    <tr>\n",
       "      <th>14123</th>\n",
       "      <td>3.0</td>\n",
       "      <td>2.0</td>\n",
       "      <td>0.0</td>\n",
       "      <td>1.0</td>\n",
       "      <td>1.0</td>\n",
       "      <td>1.0</td>\n",
       "      <td>0.0</td>\n",
       "      <td>1.0</td>\n",
       "      <td>1.0</td>\n",
       "      <td>1.0</td>\n",
       "      <td>...</td>\n",
       "      <td>Not in Labor Force</td>\n",
       "      <td>MSA, Not Principle  City</td>\n",
       "      <td>1.0</td>\n",
       "      <td>2.0</td>\n",
       "      <td>1</td>\n",
       "      <td>1</td>\n",
       "      <td>0.730579</td>\n",
       "      <td>0.269421</td>\n",
       "      <td>0.189689</td>\n",
       "      <td>0.810311</td>\n",
       "    </tr>\n",
       "    <tr>\n",
       "      <th>25010</th>\n",
       "      <td>3.0</td>\n",
       "      <td>1.0</td>\n",
       "      <td>0.0</td>\n",
       "      <td>1.0</td>\n",
       "      <td>0.0</td>\n",
       "      <td>1.0</td>\n",
       "      <td>0.0</td>\n",
       "      <td>0.0</td>\n",
       "      <td>1.0</td>\n",
       "      <td>1.0</td>\n",
       "      <td>...</td>\n",
       "      <td>Not in Labor Force</td>\n",
       "      <td>MSA, Not Principle  City</td>\n",
       "      <td>2.0</td>\n",
       "      <td>0.0</td>\n",
       "      <td>1</td>\n",
       "      <td>1</td>\n",
       "      <td>0.392406</td>\n",
       "      <td>0.607594</td>\n",
       "      <td>0.084514</td>\n",
       "      <td>0.915486</td>\n",
       "    </tr>\n",
       "    <tr>\n",
       "      <th>24771</th>\n",
       "      <td>1.0</td>\n",
       "      <td>1.0</td>\n",
       "      <td>0.0</td>\n",
       "      <td>1.0</td>\n",
       "      <td>0.0</td>\n",
       "      <td>0.0</td>\n",
       "      <td>0.0</td>\n",
       "      <td>0.0</td>\n",
       "      <td>0.0</td>\n",
       "      <td>0.0</td>\n",
       "      <td>...</td>\n",
       "      <td>Employed</td>\n",
       "      <td>MSA, Principle City</td>\n",
       "      <td>1.0</td>\n",
       "      <td>0.0</td>\n",
       "      <td>0</td>\n",
       "      <td>0</td>\n",
       "      <td>0.892446</td>\n",
       "      <td>0.107554</td>\n",
       "      <td>0.629210</td>\n",
       "      <td>0.370790</td>\n",
       "    </tr>\n",
       "    <tr>\n",
       "      <th>23611</th>\n",
       "      <td>2.0</td>\n",
       "      <td>2.0</td>\n",
       "      <td>0.0</td>\n",
       "      <td>1.0</td>\n",
       "      <td>0.0</td>\n",
       "      <td>1.0</td>\n",
       "      <td>0.0</td>\n",
       "      <td>0.0</td>\n",
       "      <td>1.0</td>\n",
       "      <td>1.0</td>\n",
       "      <td>...</td>\n",
       "      <td>Not in Labor Force</td>\n",
       "      <td>MSA, Not Principle  City</td>\n",
       "      <td>1.0</td>\n",
       "      <td>0.0</td>\n",
       "      <td>1</td>\n",
       "      <td>1</td>\n",
       "      <td>0.432141</td>\n",
       "      <td>0.567859</td>\n",
       "      <td>0.043927</td>\n",
       "      <td>0.956073</td>\n",
       "    </tr>\n",
       "    <tr>\n",
       "      <th>...</th>\n",
       "      <td>...</td>\n",
       "      <td>...</td>\n",
       "      <td>...</td>\n",
       "      <td>...</td>\n",
       "      <td>...</td>\n",
       "      <td>...</td>\n",
       "      <td>...</td>\n",
       "      <td>...</td>\n",
       "      <td>...</td>\n",
       "      <td>...</td>\n",
       "      <td>...</td>\n",
       "      <td>...</td>\n",
       "      <td>...</td>\n",
       "      <td>...</td>\n",
       "      <td>...</td>\n",
       "      <td>...</td>\n",
       "      <td>...</td>\n",
       "      <td>...</td>\n",
       "      <td>...</td>\n",
       "      <td>...</td>\n",
       "      <td>...</td>\n",
       "    </tr>\n",
       "    <tr>\n",
       "      <th>7735</th>\n",
       "      <td>2.0</td>\n",
       "      <td>0.0</td>\n",
       "      <td>0.0</td>\n",
       "      <td>1.0</td>\n",
       "      <td>0.0</td>\n",
       "      <td>1.0</td>\n",
       "      <td>0.0</td>\n",
       "      <td>0.0</td>\n",
       "      <td>1.0</td>\n",
       "      <td>0.0</td>\n",
       "      <td>...</td>\n",
       "      <td>Not in Labor Force</td>\n",
       "      <td>MSA, Not Principle  City</td>\n",
       "      <td>2.0</td>\n",
       "      <td>0.0</td>\n",
       "      <td>0</td>\n",
       "      <td>1</td>\n",
       "      <td>0.852534</td>\n",
       "      <td>0.147466</td>\n",
       "      <td>0.201628</td>\n",
       "      <td>0.798372</td>\n",
       "    </tr>\n",
       "    <tr>\n",
       "      <th>20174</th>\n",
       "      <td>2.0</td>\n",
       "      <td>1.0</td>\n",
       "      <td>0.0</td>\n",
       "      <td>0.0</td>\n",
       "      <td>0.0</td>\n",
       "      <td>1.0</td>\n",
       "      <td>0.0</td>\n",
       "      <td>0.0</td>\n",
       "      <td>1.0</td>\n",
       "      <td>1.0</td>\n",
       "      <td>...</td>\n",
       "      <td>Employed</td>\n",
       "      <td>MSA, Not Principle  City</td>\n",
       "      <td>1.0</td>\n",
       "      <td>0.0</td>\n",
       "      <td>1</td>\n",
       "      <td>1</td>\n",
       "      <td>0.097724</td>\n",
       "      <td>0.902276</td>\n",
       "      <td>0.017765</td>\n",
       "      <td>0.982235</td>\n",
       "    </tr>\n",
       "    <tr>\n",
       "      <th>19888</th>\n",
       "      <td>2.0</td>\n",
       "      <td>1.0</td>\n",
       "      <td>0.0</td>\n",
       "      <td>1.0</td>\n",
       "      <td>0.0</td>\n",
       "      <td>1.0</td>\n",
       "      <td>1.0</td>\n",
       "      <td>1.0</td>\n",
       "      <td>1.0</td>\n",
       "      <td>0.0</td>\n",
       "      <td>...</td>\n",
       "      <td>Employed</td>\n",
       "      <td>MSA, Not Principle  City</td>\n",
       "      <td>0.0</td>\n",
       "      <td>0.0</td>\n",
       "      <td>1</td>\n",
       "      <td>1</td>\n",
       "      <td>0.882204</td>\n",
       "      <td>0.117796</td>\n",
       "      <td>0.352338</td>\n",
       "      <td>0.647662</td>\n",
       "    </tr>\n",
       "    <tr>\n",
       "      <th>22054</th>\n",
       "      <td>1.0</td>\n",
       "      <td>1.0</td>\n",
       "      <td>0.0</td>\n",
       "      <td>1.0</td>\n",
       "      <td>0.0</td>\n",
       "      <td>1.0</td>\n",
       "      <td>0.0</td>\n",
       "      <td>0.0</td>\n",
       "      <td>1.0</td>\n",
       "      <td>0.0</td>\n",
       "      <td>...</td>\n",
       "      <td>Not in Labor Force</td>\n",
       "      <td>MSA, Not Principle  City</td>\n",
       "      <td>0.0</td>\n",
       "      <td>0.0</td>\n",
       "      <td>0</td>\n",
       "      <td>1</td>\n",
       "      <td>0.934108</td>\n",
       "      <td>0.065892</td>\n",
       "      <td>0.033115</td>\n",
       "      <td>0.966885</td>\n",
       "    </tr>\n",
       "    <tr>\n",
       "      <th>21048</th>\n",
       "      <td>1.0</td>\n",
       "      <td>1.0</td>\n",
       "      <td>0.0</td>\n",
       "      <td>1.0</td>\n",
       "      <td>0.0</td>\n",
       "      <td>1.0</td>\n",
       "      <td>0.0</td>\n",
       "      <td>0.0</td>\n",
       "      <td>0.0</td>\n",
       "      <td>0.0</td>\n",
       "      <td>...</td>\n",
       "      <td>Not in Labor Force</td>\n",
       "      <td>MSA, Not Principle  City</td>\n",
       "      <td>1.0</td>\n",
       "      <td>0.0</td>\n",
       "      <td>1</td>\n",
       "      <td>1</td>\n",
       "      <td>0.460343</td>\n",
       "      <td>0.539657</td>\n",
       "      <td>0.195078</td>\n",
       "      <td>0.804922</td>\n",
       "    </tr>\n",
       "  </tbody>\n",
       "</table>\n",
       "<p>6559 rows × 38 columns</p>\n",
       "</div>"
      ],
      "text/plain": [
       "               h1n1_concern  h1n1_knowledge  behavioral_antiviral_meds  \\\n",
       "respondent_id                                                            \n",
       "15045                   0.0             1.0                        0.0   \n",
       "14123                   3.0             2.0                        0.0   \n",
       "25010                   3.0             1.0                        0.0   \n",
       "24771                   1.0             1.0                        0.0   \n",
       "23611                   2.0             2.0                        0.0   \n",
       "...                     ...             ...                        ...   \n",
       "7735                    2.0             0.0                        0.0   \n",
       "20174                   2.0             1.0                        0.0   \n",
       "19888                   2.0             1.0                        0.0   \n",
       "22054                   1.0             1.0                        0.0   \n",
       "21048                   1.0             1.0                        0.0   \n",
       "\n",
       "               behavioral_avoidance  behavioral_face_mask  \\\n",
       "respondent_id                                               \n",
       "15045                           1.0                   0.0   \n",
       "14123                           1.0                   1.0   \n",
       "25010                           1.0                   0.0   \n",
       "24771                           1.0                   0.0   \n",
       "23611                           1.0                   0.0   \n",
       "...                             ...                   ...   \n",
       "7735                            1.0                   0.0   \n",
       "20174                           0.0                   0.0   \n",
       "19888                           1.0                   0.0   \n",
       "22054                           1.0                   0.0   \n",
       "21048                           1.0                   0.0   \n",
       "\n",
       "               behavioral_wash_hands  behavioral_large_gatherings  \\\n",
       "respondent_id                                                       \n",
       "15045                            1.0                          0.0   \n",
       "14123                            1.0                          0.0   \n",
       "25010                            1.0                          0.0   \n",
       "24771                            0.0                          0.0   \n",
       "23611                            1.0                          0.0   \n",
       "...                              ...                          ...   \n",
       "7735                             1.0                          0.0   \n",
       "20174                            1.0                          0.0   \n",
       "19888                            1.0                          1.0   \n",
       "22054                            1.0                          0.0   \n",
       "21048                            1.0                          0.0   \n",
       "\n",
       "               behavioral_outside_home  behavioral_touch_face  \\\n",
       "respondent_id                                                   \n",
       "15045                              0.0                    1.0   \n",
       "14123                              1.0                    1.0   \n",
       "25010                              0.0                    1.0   \n",
       "24771                              0.0                    0.0   \n",
       "23611                              0.0                    1.0   \n",
       "...                                ...                    ...   \n",
       "7735                               0.0                    1.0   \n",
       "20174                              0.0                    1.0   \n",
       "19888                              1.0                    1.0   \n",
       "22054                              0.0                    1.0   \n",
       "21048                              0.0                    0.0   \n",
       "\n",
       "               doctor_recc_h1n1  ...   employment_status  \\\n",
       "respondent_id                    ...                       \n",
       "15045                       0.0  ...  Not in Labor Force   \n",
       "14123                       1.0  ...  Not in Labor Force   \n",
       "25010                       1.0  ...  Not in Labor Force   \n",
       "24771                       0.0  ...            Employed   \n",
       "23611                       1.0  ...  Not in Labor Force   \n",
       "...                         ...  ...                 ...   \n",
       "7735                        0.0  ...  Not in Labor Force   \n",
       "20174                       1.0  ...            Employed   \n",
       "19888                       0.0  ...            Employed   \n",
       "22054                       0.0  ...  Not in Labor Force   \n",
       "21048                       0.0  ...  Not in Labor Force   \n",
       "\n",
       "                             census_msa  household_adults  household_children  \\\n",
       "respondent_id                                                                   \n",
       "15045                           Non-MSA               1.0                 0.0   \n",
       "14123          MSA, Not Principle  City               1.0                 2.0   \n",
       "25010          MSA, Not Principle  City               2.0                 0.0   \n",
       "24771               MSA, Principle City               1.0                 0.0   \n",
       "23611          MSA, Not Principle  City               1.0                 0.0   \n",
       "...                                 ...               ...                 ...   \n",
       "7735           MSA, Not Principle  City               2.0                 0.0   \n",
       "20174          MSA, Not Principle  City               1.0                 0.0   \n",
       "19888          MSA, Not Principle  City               0.0                 0.0   \n",
       "22054          MSA, Not Principle  City               0.0                 0.0   \n",
       "21048          MSA, Not Principle  City               1.0                 0.0   \n",
       "\n",
       "               h1n1_vaccine  seasonal_vaccine  h1n1_prob_0  h1n1_prob_1  \\\n",
       "respondent_id                                                             \n",
       "15045                     0                 0     0.920988     0.079012   \n",
       "14123                     1                 1     0.730579     0.269421   \n",
       "25010                     1                 1     0.392406     0.607594   \n",
       "24771                     0                 0     0.892446     0.107554   \n",
       "23611                     1                 1     0.432141     0.567859   \n",
       "...                     ...               ...          ...          ...   \n",
       "7735                      0                 1     0.852534     0.147466   \n",
       "20174                     1                 1     0.097724     0.902276   \n",
       "19888                     1                 1     0.882204     0.117796   \n",
       "22054                     0                 1     0.934108     0.065892   \n",
       "21048                     1                 1     0.460343     0.539657   \n",
       "\n",
       "               seasonal_prob_0  seasonal_prob_1  \n",
       "respondent_id                                    \n",
       "15045                 0.346503         0.653497  \n",
       "14123                 0.189689         0.810311  \n",
       "25010                 0.084514         0.915486  \n",
       "24771                 0.629210         0.370790  \n",
       "23611                 0.043927         0.956073  \n",
       "...                        ...              ...  \n",
       "7735                  0.201628         0.798372  \n",
       "20174                 0.017765         0.982235  \n",
       "19888                 0.352338         0.647662  \n",
       "22054                 0.033115         0.966885  \n",
       "21048                 0.195078         0.804922  \n",
       "\n",
       "[6559 rows x 38 columns]"
      ]
     },
     "execution_count": 52,
     "metadata": {},
     "output_type": "execute_result"
    }
   ],
   "source": [
    "df"
   ]
  },
  {
   "cell_type": "code",
   "execution_count": 53,
   "metadata": {},
   "outputs": [
    {
     "name": "stdout",
     "output_type": "stream",
     "text": [
      "<class 'pandas.core.frame.DataFrame'>\n",
      "Int64Index: 6559 entries, 15045 to 21048\n",
      "Data columns (total 38 columns):\n",
      " #   Column                       Non-Null Count  Dtype  \n",
      "---  ------                       --------------  -----  \n",
      " 0   h1n1_concern                 6559 non-null   float64\n",
      " 1   h1n1_knowledge               6559 non-null   float64\n",
      " 2   behavioral_antiviral_meds    6559 non-null   float64\n",
      " 3   behavioral_avoidance         6559 non-null   float64\n",
      " 4   behavioral_face_mask         6559 non-null   float64\n",
      " 5   behavioral_wash_hands        6559 non-null   float64\n",
      " 6   behavioral_large_gatherings  6559 non-null   float64\n",
      " 7   behavioral_outside_home      6559 non-null   float64\n",
      " 8   behavioral_touch_face        6559 non-null   float64\n",
      " 9   doctor_recc_h1n1             6559 non-null   float64\n",
      " 10  doctor_recc_seasonal         6559 non-null   float64\n",
      " 11  chronic_med_condition        6559 non-null   float64\n",
      " 12  child_under_6_months         6559 non-null   float64\n",
      " 13  health_worker                6559 non-null   float64\n",
      " 14  health_insurance             3755 non-null   float64\n",
      " 15  opinion_h1n1_vacc_effective  6559 non-null   float64\n",
      " 16  opinion_h1n1_risk            6559 non-null   float64\n",
      " 17  opinion_h1n1_sick_from_vacc  6559 non-null   float64\n",
      " 18  opinion_seas_vacc_effective  6559 non-null   float64\n",
      " 19  opinion_seas_risk            6559 non-null   float64\n",
      " 20  opinion_seas_sick_from_vacc  6559 non-null   float64\n",
      " 21  age_group                    6559 non-null   object \n",
      " 22  education                    6559 non-null   object \n",
      " 23  race                         6559 non-null   object \n",
      " 24  sex                          6559 non-null   object \n",
      " 25  income_poverty               6559 non-null   object \n",
      " 26  marital_status               6559 non-null   object \n",
      " 27  rent_or_own                  6559 non-null   object \n",
      " 28  employment_status            6559 non-null   object \n",
      " 29  census_msa                   6559 non-null   object \n",
      " 30  household_adults             6559 non-null   float64\n",
      " 31  household_children           6559 non-null   float64\n",
      " 32  h1n1_vaccine                 6559 non-null   int64  \n",
      " 33  seasonal_vaccine             6559 non-null   int64  \n",
      " 34  h1n1_prob_0                  6559 non-null   float64\n",
      " 35  h1n1_prob_1                  6559 non-null   float64\n",
      " 36  seasonal_prob_0              6559 non-null   float64\n",
      " 37  seasonal_prob_1              6559 non-null   float64\n",
      "dtypes: float64(27), int64(2), object(9)\n",
      "memory usage: 2.0+ MB\n"
     ]
    }
   ],
   "source": [
    "df.info()"
   ]
  },
  {
   "cell_type": "code",
   "execution_count": 61,
   "metadata": {},
   "outputs": [
    {
     "data": {
      "text/plain": [
       "race\n",
       "Black                0.163075\n",
       "Hispanic             0.202637\n",
       "Other or Multiple    0.205352\n",
       "White                0.215836\n",
       "Name: h1n1_prob_1, dtype: float64"
      ]
     },
     "execution_count": 61,
     "metadata": {},
     "output_type": "execute_result"
    }
   ],
   "source": [
    "df.groupby('race').h1n1_prob_1.mean()"
   ]
  },
  {
   "cell_type": "code",
   "execution_count": 74,
   "metadata": {
    "scrolled": true
   },
   "outputs": [
    {
     "data": {
      "image/png": "[encoded data removed]",
      "text/plain": [
       "<Figure size 432x288 with 1 Axes>"
      ]
     },
     "metadata": {
      "needs_background": "light"
     },
     "output_type": "display_data"
    }
   ],
   "source": [
    "\n",
    "\n",
    "df.boxplot(column='h1n1_prob_1', by ='race', showfliers = False)\n",
    "\n",
    "plt.title('Predicted probability of getting vaccinated (pandemic)')\n",
    "\n",
    "\n",
    "plt.xlabel('Race')\n",
    "plt.grid(False)\n",
    "plt.tight_layout();"
   ]
  },
  {
   "cell_type": "code",
   "execution_count": 75,
   "metadata": {},
   "outputs": [
    {
     "data": {
      "image/png": "[encoded data removed]",
      "text/plain": [
       "<Figure size 432x288 with 1 Axes>"
      ]
     },
     "metadata": {
      "needs_background": "light"
     },
     "output_type": "display_data"
    }
   ],
   "source": [
    "\n",
    "df.boxplot(column='seasonal_prob_1', by ='race', showfliers = False)\n",
    "\n",
    "plt.title('Predicted probability of getting vaccinated (seasonal flu)')\n",
    "\n",
    "\n",
    "plt.xlabel('Race')\n",
    "plt.grid(False)\n",
    "plt.tight_layout();"
   ]
  },
  {
   "cell_type": "code",
   "execution_count": null,
   "metadata": {},
   "outputs": [],
   "source": []
  }
 ],
 "metadata": {
  "kernelspec": {
   "display_name": "Python (learn-env)",
   "language": "python",
   "name": "learn-env"
  },
  "language_info": {
   "codemirror_mode": {
    "name": "ipython",
    "version": 3
   },
   "file_extension": ".py",
   "mimetype": "text/x-python",
   "name": "python",
   "nbconvert_exporter": "python",
   "pygments_lexer": "ipython3",
   "version": "3.8.5"
  }
 },
 "nbformat": 4,
 "nbformat_minor": 4
}
