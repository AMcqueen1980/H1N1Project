{
 "cells": [
  {
   "cell_type": "code",
   "execution_count": 84,
   "metadata": {},
   "outputs": [],
   "source": [
    "import pandas as pd\n",
    "import numpy as np\n",
    "\n",
    "import seaborn as sns\n",
    "import matplotlib.pyplot as plt\n",
    "%matplotlib inline \n",
    "\n",
    "from sklearn.multioutput import MultiOutputClassifier\n",
    "from sklearn.preprocessing import OneHotEncoder, StandardScaler\n",
    "\n",
    "from sklearn.dummy import DummyClassifier\n",
    "from sklearn.linear_model import LogisticRegression\n",
    "\n",
    "from sklearn.model_selection import cross_val_score, cross_validate\n",
    "from sklearn.feature_selection import SelectFromModel\n",
    "\n",
    "from sklearn.metrics import plot_confusion_matrix, confusion_matrix\n",
    "from sklearn.metrics import plot_roc_curve, roc_curve, roc_auc_score\n",
    "\n",
    "from sklearn.pipeline import Pipeline"
   ]
  },
  {
   "cell_type": "code",
   "execution_count": 47,
   "metadata": {},
   "outputs": [],
   "source": [
    "X_train= pd.read_csv('X_train_imputed.csv')\n",
    "y_train = pd.read_csv('y_train.csv')\n",
    "\n",
    "X_test = pd.read_csv('X_test_imputed.csv')\n",
    "y_test = pd.read_csv('y_test.csv')\n"
   ]
  },
  {
   "cell_type": "code",
   "execution_count": 49,
   "metadata": {},
   "outputs": [
    {
     "name": "stdout",
     "output_type": "stream",
     "text": [
      "<class 'pandas.core.frame.DataFrame'>\n",
      "RangeIndex: 15304 entries, 0 to 15303\n",
      "Data columns (total 43 columns):\n",
      " #   Column                       Non-Null Count  Dtype  \n",
      "---  ------                       --------------  -----  \n",
      " 0   respondent_id                15304 non-null  int64  \n",
      " 1   h1n1_concern                 15304 non-null  float64\n",
      " 2   h1n1_knowledge               15304 non-null  float64\n",
      " 3   behavioral_antiviral_meds    15304 non-null  float64\n",
      " 4   behavioral_avoidance         15304 non-null  float64\n",
      " 5   behavioral_face_mask         15304 non-null  float64\n",
      " 6   behavioral_wash_hands        15304 non-null  float64\n",
      " 7   behavioral_large_gatherings  15304 non-null  float64\n",
      " 8   behavioral_outside_home      15304 non-null  float64\n",
      " 9   behavioral_touch_face        15304 non-null  float64\n",
      " 10  doctor_recc_h1n1             15304 non-null  float64\n",
      " 11  doctor_recc_seasonal         15304 non-null  float64\n",
      " 12  chronic_med_condition        15304 non-null  float64\n",
      " 13  child_under_6_months         15304 non-null  float64\n",
      " 14  health_worker                15304 non-null  float64\n",
      " 15  opinion_h1n1_vacc_effective  15304 non-null  float64\n",
      " 16  opinion_h1n1_risk            15304 non-null  float64\n",
      " 17  opinion_h1n1_sick_from_vacc  15304 non-null  float64\n",
      " 18  opinion_seas_vacc_effective  15304 non-null  float64\n",
      " 19  opinion_seas_risk            15304 non-null  float64\n",
      " 20  opinion_seas_sick_from_vacc  15304 non-null  float64\n",
      " 21  household_adults             15304 non-null  float64\n",
      " 22  household_children           15304 non-null  float64\n",
      " 23  health_insurance             15304 non-null  int64  \n",
      " 24  x0_35 - 44 Years             15304 non-null  float64\n",
      " 25  x0_45 - 54 Years             15304 non-null  float64\n",
      " 26  x0_55 - 64 Years             15304 non-null  float64\n",
      " 27  x0_65+ Years                 15304 non-null  float64\n",
      " 28  x1_< 12 Years                15304 non-null  float64\n",
      " 29  x1_College Graduate          15304 non-null  float64\n",
      " 30  x1_Some College              15304 non-null  float64\n",
      " 31  x2_Hispanic                  15304 non-null  float64\n",
      " 32  x2_Other or Multiple         15304 non-null  float64\n",
      " 33  x2_White                     15304 non-null  float64\n",
      " 34  x3_Male                      15304 non-null  float64\n",
      " 35  x4_> $75,000                 15304 non-null  float64\n",
      " 36  x4_Below Poverty             15304 non-null  float64\n",
      " 37  x5_Not Married               15304 non-null  float64\n",
      " 38  x6_Rent                      15304 non-null  float64\n",
      " 39  x7_Not in Labor Force        15304 non-null  float64\n",
      " 40  x7_Unemployed                15304 non-null  float64\n",
      " 41  x8_MSA, Principle City       15304 non-null  float64\n",
      " 42  x8_Non-MSA                   15304 non-null  float64\n",
      "dtypes: float64(41), int64(2)\n",
      "memory usage: 5.0 MB\n"
     ]
    }
   ],
   "source": [
    "X_train.info()"
   ]
  },
  {
   "cell_type": "code",
   "execution_count": 50,
   "metadata": {},
   "outputs": [],
   "source": [
    "X_train=X_train.drop('respondent_id', axis=1)\n",
    "y_train=y_train.drop('respondent_id', axis=1)\n",
    "\n",
    "X_test=X_test.drop('respondent_id', axis=1)\n",
    "y_test=y_test.drop('respondent_id', axis=1)\n"
   ]
  },
  {
   "cell_type": "code",
   "execution_count": 52,
   "metadata": {},
   "outputs": [],
   "source": [
    "# Standard Scaler\n",
    "\n",
    "ss = StandardScaler()\n",
    "X_train_scaled = ss.fit_transform(X_train)\n",
    "X_test_scaled = ss.transform(X_test)\n"
   ]
  },
  {
   "cell_type": "code",
   "execution_count": 53,
   "metadata": {},
   "outputs": [],
   "source": [
    "# Baseline model\n",
    "\n",
    "baseline = MultiOutputClassifier(\n",
    "    estimator=LogisticRegression(max_iter=1000 , penalty=\"l2\", C=100)\n",
    ")\n",
    "\n",
    "baseline.fit(X_train_scaled, y_train)\n",
    "\n",
    "preds = baseline.predict_proba(X_test_scaled)"
   ]
  },
  {
   "cell_type": "code",
   "execution_count": 38,
   "metadata": {
    "scrolled": true
   },
   "outputs": [
    {
     "name": "stdout",
     "output_type": "stream",
     "text": [
      "y_preds.shape: (6559, 2)\n"
     ]
    },
    {
     "data": {
      "text/html": [
       "<div>\n",
       "<style scoped>\n",
       "    .dataframe tbody tr th:only-of-type {\n",
       "        vertical-align: middle;\n",
       "    }\n",
       "\n",
       "    .dataframe tbody tr th {\n",
       "        vertical-align: top;\n",
       "    }\n",
       "\n",
       "    .dataframe thead th {\n",
       "        text-align: right;\n",
       "    }\n",
       "</style>\n",
       "<table border=\"1\" class=\"dataframe\">\n",
       "  <thead>\n",
       "    <tr style=\"text-align: right;\">\n",
       "      <th></th>\n",
       "      <th>h1n1_vaccine</th>\n",
       "      <th>seasonal_vaccine</th>\n",
       "    </tr>\n",
       "  </thead>\n",
       "  <tbody>\n",
       "    <tr>\n",
       "      <th>0</th>\n",
       "      <td>0.000629</td>\n",
       "      <td>0.003189</td>\n",
       "    </tr>\n",
       "    <tr>\n",
       "      <th>1</th>\n",
       "      <td>0.314871</td>\n",
       "      <td>0.023000</td>\n",
       "    </tr>\n",
       "    <tr>\n",
       "      <th>2</th>\n",
       "      <td>0.046639</td>\n",
       "      <td>0.071547</td>\n",
       "    </tr>\n",
       "    <tr>\n",
       "      <th>3</th>\n",
       "      <td>0.000487</td>\n",
       "      <td>0.003798</td>\n",
       "    </tr>\n",
       "    <tr>\n",
       "      <th>4</th>\n",
       "      <td>0.085686</td>\n",
       "      <td>0.472536</td>\n",
       "    </tr>\n",
       "  </tbody>\n",
       "</table>\n",
       "</div>"
      ],
      "text/plain": [
       "   h1n1_vaccine  seasonal_vaccine\n",
       "0      0.000629          0.003189\n",
       "1      0.314871          0.023000\n",
       "2      0.046639          0.071547\n",
       "3      0.000487          0.003798\n",
       "4      0.085686          0.472536"
      ]
     },
     "execution_count": 38,
     "metadata": {},
     "output_type": "execute_result"
    }
   ],
   "source": [
    "y_preds = pd.DataFrame(\n",
    "    {\n",
    "        \"h1n1_vaccine\": preds[0][:, 1],\n",
    "        \"seasonal_vaccine\": preds[1][:, 1],\n",
    "    },\n",
    "    index = y_test.index\n",
    ")\n",
    "print(\"y_preds.shape:\", y_preds.shape)\n",
    "y_preds.head()"
   ]
  },
  {
   "cell_type": "code",
   "execution_count": 40,
   "metadata": {
    "scrolled": false
   },
   "outputs": [],
   "source": [
    "def plot_roc(y_true, y_score, label_name, ax):\n",
    "    fpr, tpr, thresholds = roc_curve(y_true, y_score)\n",
    "    ax.plot(fpr, tpr)\n",
    "    ax.plot([0, 1], [0, 1], color='grey', linestyle='--')\n",
    "    ax.set_ylabel('TPR')\n",
    "    ax.set_xlabel('FPR')\n",
    "    ax.set_title(\n",
    "        f\"{label_name}: AUC = {roc_auc_score(y_true, y_score):.4f}\"\n",
    "    )"
   ]
  },
  {
   "cell_type": "code",
   "execution_count": 41,
   "metadata": {},
   "outputs": [
    {
     "data": {
      "image/png": "[encoded data removed]",
      "text/plain": [
       "<Figure size 504x252 with 2 Axes>"
      ]
     },
     "metadata": {
      "needs_background": "light"
     },
     "output_type": "display_data"
    }
   ],
   "source": [
    "fig, ax = plt.subplots(1, 2, figsize=(7, 3.5))\n",
    "\n",
    "plot_roc(\n",
    "    y_test['h1n1_vaccine'], \n",
    "    y_preds['h1n1_vaccine'], \n",
    "    'h1n1_vaccine',\n",
    "    ax=ax[0]\n",
    ")\n",
    "plot_roc(\n",
    "    y_test['seasonal_vaccine'], \n",
    "    y_preds['seasonal_vaccine'], \n",
    "    'seasonal_vaccine',\n",
    "    ax=ax[1]\n",
    ")\n",
    "fig.tight_layout()"
   ]
  },
  {
   "cell_type": "code",
   "execution_count": 43,
   "metadata": {},
   "outputs": [
    {
     "data": {
      "text/plain": [
       "0.8124900763280658"
      ]
     },
     "execution_count": 43,
     "metadata": {},
     "output_type": "execute_result"
    }
   ],
   "source": [
    "# the average AUC\n",
    "roc_auc_score(y_test, y_preds)"
   ]
  },
  {
   "cell_type": "code",
   "execution_count": 70,
   "metadata": {},
   "outputs": [],
   "source": [
    "# One hot encoding for non-binary features \n",
    "\n",
    "non_binary = ['h1n1_concern', 'h1n1_knowledge', 'opinion_h1n1_vacc_effective',\n",
    "'opinion_h1n1_risk', 'opinion_h1n1_sick_from_vacc', 'opinion_seas_vacc_effective',\n",
    "'opinion_seas_risk', 'opinion_seas_sick_from_vacc']\n",
    "\n",
    "\n",
    "# X_test data\n",
    "nb_train = X_train[non_binary]\n",
    "\n",
    "ohe = OneHotEncoder(drop='first', sparse=False)\n",
    "\n",
    "dums = ohe.fit_transform(nb_train)\n",
    "\n",
    "dums_df = pd.DataFrame(dums,\n",
    "                       columns=ohe.get_feature_names(),\n",
    "                       index=nb_train.index)\n",
    "\n",
    "\n",
    "\n",
    "\n",
    "# X_test data\n",
    "\n",
    "nb_test = X_test[non_binary]\n",
    "\n",
    "dums_t = ohe.transform(nb_test)\n",
    "\n",
    "dums_t_df = pd.DataFrame(dums_t,\n",
    "                       columns=ohe.get_feature_names(),\n",
    "                       index=nb_test.index)\n",
    "\n",
    "\n",
    "\n"
   ]
  },
  {
   "cell_type": "code",
   "execution_count": 77,
   "metadata": {},
   "outputs": [],
   "source": [
    "# concat one hot encoded df and X \n",
    "\n",
    "# X_train data\n",
    "X_train_1 = X_train.drop(non_binary, axis=1)\n",
    "\n",
    "X_train_ohe = pd.concat([X_train_1, dums_df], axis=1)\n",
    "\n",
    "# X_test data\n",
    "X_test_1 = X_test.drop(non_binary, axis=1)\n",
    "\n",
    "X_test_ohe = pd.concat([X_test_1, dums_t_df], axis=1)\n"
   ]
  },
  {
   "cell_type": "code",
   "execution_count": 80,
   "metadata": {
    "scrolled": true
   },
   "outputs": [
    {
     "name": "stdout",
     "output_type": "stream",
     "text": [
      "y_preds_1.shape: (6559, 2)\n"
     ]
    },
    {
     "data": {
      "text/html": [
       "<div>\n",
       "<style scoped>\n",
       "    .dataframe tbody tr th:only-of-type {\n",
       "        vertical-align: middle;\n",
       "    }\n",
       "\n",
       "    .dataframe tbody tr th {\n",
       "        vertical-align: top;\n",
       "    }\n",
       "\n",
       "    .dataframe thead th {\n",
       "        text-align: right;\n",
       "    }\n",
       "</style>\n",
       "<table border=\"1\" class=\"dataframe\">\n",
       "  <thead>\n",
       "    <tr style=\"text-align: right;\">\n",
       "      <th></th>\n",
       "      <th>h1n1_vaccine</th>\n",
       "      <th>seasonal_vaccine</th>\n",
       "    </tr>\n",
       "  </thead>\n",
       "  <tbody>\n",
       "    <tr>\n",
       "      <th>0</th>\n",
       "      <td>0.094601</td>\n",
       "      <td>0.596491</td>\n",
       "    </tr>\n",
       "    <tr>\n",
       "      <th>1</th>\n",
       "      <td>0.532132</td>\n",
       "      <td>0.844448</td>\n",
       "    </tr>\n",
       "    <tr>\n",
       "      <th>2</th>\n",
       "      <td>0.538788</td>\n",
       "      <td>0.927631</td>\n",
       "    </tr>\n",
       "    <tr>\n",
       "      <th>3</th>\n",
       "      <td>0.089190</td>\n",
       "      <td>0.419641</td>\n",
       "    </tr>\n",
       "    <tr>\n",
       "      <th>4</th>\n",
       "      <td>0.540988</td>\n",
       "      <td>0.969596</td>\n",
       "    </tr>\n",
       "  </tbody>\n",
       "</table>\n",
       "</div>"
      ],
      "text/plain": [
       "   h1n1_vaccine  seasonal_vaccine\n",
       "0      0.094601          0.596491\n",
       "1      0.532132          0.844448\n",
       "2      0.538788          0.927631\n",
       "3      0.089190          0.419641\n",
       "4      0.540988          0.969596"
      ]
     },
     "execution_count": 80,
     "metadata": {},
     "output_type": "execute_result"
    }
   ],
   "source": [
    "# fit the baseline model to X_train_ohe \n",
    "\n",
    "baseline_1 = MultiOutputClassifier(\n",
    "    estimator=LogisticRegression(max_iter=1000 , penalty=\"l2\", C=100)\n",
    ")\n",
    "\n",
    "\n",
    "baseline_1.fit(X_train_ohe, y_train)\n",
    "\n",
    "preds_1 = baseline_1.predict_proba(X_test_ohe)\n",
    "\n",
    "y_preds_1 = pd.DataFrame(\n",
    "    {\n",
    "        \"h1n1_vaccine\": preds_1[0][:, 1],\n",
    "        \"seasonal_vaccine\": preds_1[1][:, 1],\n",
    "    },\n",
    "    index = y_test.index\n",
    ")\n",
    "print(\"y_preds_1.shape:\", y_preds_1.shape)\n",
    "y_preds_1.head()"
   ]
  },
  {
   "cell_type": "code",
   "execution_count": 86,
   "metadata": {},
   "outputs": [
    {
     "data": {
      "text/plain": [
       "array([0.68409017, 0.68572362, 0.65338125, 0.66481542, 0.66405229])"
      ]
     },
     "execution_count": 86,
     "metadata": {},
     "output_type": "execute_result"
    }
   ],
   "source": [
    "cross_val_score(estimator=baseline_1, X=X_train_ohe, y=y_train, cv=5) \n"
   ]
  },
  {
   "cell_type": "code",
   "execution_count": 81,
   "metadata": {},
   "outputs": [
    {
     "data": {
      "image/png": "[encoded data removed]",
      "text/plain": [
       "<Figure size 504x252 with 2 Axes>"
      ]
     },
     "metadata": {
      "needs_background": "light"
     },
     "output_type": "display_data"
    }
   ],
   "source": [
    "fig, ax = plt.subplots(1, 2, figsize=(7, 3.5))\n",
    "\n",
    "plot_roc(\n",
    "    y_test['h1n1_vaccine'], \n",
    "    y_preds_1['h1n1_vaccine'], \n",
    "    'h1n1_vaccine',\n",
    "    ax=ax[0]\n",
    ")\n",
    "plot_roc(\n",
    "    y_test['seasonal_vaccine'], \n",
    "    y_preds_1['seasonal_vaccine'], \n",
    "    'seasonal_vaccine',\n",
    "    ax=ax[1]\n",
    ")\n",
    "fig.tight_layout()"
   ]
  },
  {
   "cell_type": "code",
   "execution_count": 82,
   "metadata": {},
   "outputs": [
    {
     "data": {
      "text/plain": [
       "0.8424443538507428"
      ]
     },
     "execution_count": 82,
     "metadata": {},
     "output_type": "execute_result"
    }
   ],
   "source": [
    "# the average AUC\n",
    "roc_auc_score(y_test, y_preds_1)"
   ]
  },
  {
   "cell_type": "code",
   "execution_count": null,
   "metadata": {},
   "outputs": [],
   "source": []
  }
 ],
 "metadata": {
  "kernelspec": {
   "display_name": "Python (learn-env)",
   "language": "python",
   "name": "learn-env"
  },
  "language_info": {
   "codemirror_mode": {
    "name": "ipython",
    "version": 3
   },
   "file_extension": ".py",
   "mimetype": "text/x-python",
   "name": "python",
   "nbconvert_exporter": "python",
   "pygments_lexer": "ipython3",
   "version": "3.8.5"
  }
 },
 "nbformat": 4,
 "nbformat_minor": 4
}
