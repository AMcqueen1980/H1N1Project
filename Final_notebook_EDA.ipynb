{
 "cells": [
  {
   "cell_type": "markdown",
   "metadata": {},
   "source": [
    "# Swine Flu and Seasonal Flu Vaccination Prediction Project"
   ]
  },
  {
   "cell_type": "markdown",
   "metadata": {},
   "source": [
    "### Stakeholder: Center for Disease Control (CDC) or Department of Health and Human Services(DHHS)\n",
    "\n",
    "### Task: What is the likelihood of an individual getting vaccinated based upon survey data?\n",
    "\n",
    "\n",
    "Dataset curated from the National 2009 H1N1 Flu Survey, conducted by the CDC in 2009-2010. Obtained from:\n",
    "https://www.drivendata.org/competitions/66/flu-shot-learning/page/211/\n",
    "\n",
    "The data covers the H1N1 and seasonal flu vaccination status of adults and children, as well as flu-related behaviors, opinions about flu vaccine safety and effectiveness, and socioeconomic status. We will utilize these features in order to create a predictive model that can predict the likelihood of a person getting vaccinated. These types of models are crucial to helping direct public health policies and preventing future pandemics."
   ]
  },
  {
   "cell_type": "markdown",
   "metadata": {},
   "source": [
    "**Load packages**"
   ]
  },
  {
   "cell_type": "code",
   "execution_count": 1,
   "metadata": {},
   "outputs": [],
   "source": [
    "\n",
    "import pandas as pd\n",
    "import numpy as np\n",
    "\n",
    "import seaborn as sns\n",
    "import matplotlib.pyplot as plt\n",
    "%matplotlib inline \n",
    "\n",
    "from sklearn.preprocessing import OneHotEncoder, StandardScaler\n",
    "\n",
    "from sklearn.impute import MissingIndicator, SimpleImputer, KNNImputer \n",
    "\n",
    "from sklearn.dummy import DummyClassifier\n",
    "from sklearn.linear_model import LogisticRegression\n",
    "\n",
    "from sklearn.model_selection import train_test_split, cross_val_score\n",
    "from sklearn.feature_selection import SelectFromModel\n",
    "\n",
    "from sklearn.metrics import plot_confusion_matrix\n",
    "from sklearn.metrics import confusion_matrix\n",
    "from sklearn.metrics import plot_roc_curve"
   ]
  },
  {
   "cell_type": "markdown",
   "metadata": {},
   "source": [
    "**Loading Data**"
   ]
  },
  {
   "cell_type": "code",
   "execution_count": 2,
   "metadata": {},
   "outputs": [],
   "source": [
    "features_df = pd.read_csv('Data/training_set_features.csv', index_col=\"respondent_id\")\n",
    "labels_df = pd.read_csv('Data/training_set_labels.csv', index_col=\"respondent_id\")\n",
    "df = features_df.join(labels_df, how = 'inner')\n",
    "# check that the rows between the features and the labels match up\n",
    "# np.testing.assert_array_equal(features_df.index.values, labels_df.index.values)\n",
    "\n",
    "# # merge features_df and labels_df \n",
    "# df = labels_df.merge(features_df, how = 'inner', on='respondent_id')\n",
    "\n",
    "# # drop duplicate \n",
    "# df.drop_duplicates(inplace=True)"
   ]
  },
  {
   "cell_type": "code",
   "execution_count": 3,
   "metadata": {},
   "outputs": [
    {
     "data": {
      "text/plain": [
       "(26707, 37)"
      ]
     },
     "execution_count": 3,
     "metadata": {},
     "output_type": "execute_result"
    }
   ],
   "source": [
    "df.shape"
   ]
  },
  {
   "cell_type": "code",
   "execution_count": 4,
   "metadata": {},
   "outputs": [
    {
     "name": "stdout",
     "output_type": "stream",
     "text": [
      "<class 'pandas.core.frame.DataFrame'>\n",
      "Int64Index: 26707 entries, 0 to 26706\n",
      "Data columns (total 37 columns):\n",
      " #   Column                       Non-Null Count  Dtype  \n",
      "---  ------                       --------------  -----  \n",
      " 0   h1n1_concern                 26615 non-null  float64\n",
      " 1   h1n1_knowledge               26591 non-null  float64\n",
      " 2   behavioral_antiviral_meds    26636 non-null  float64\n",
      " 3   behavioral_avoidance         26499 non-null  float64\n",
      " 4   behavioral_face_mask         26688 non-null  float64\n",
      " 5   behavioral_wash_hands        26665 non-null  float64\n",
      " 6   behavioral_large_gatherings  26620 non-null  float64\n",
      " 7   behavioral_outside_home      26625 non-null  float64\n",
      " 8   behavioral_touch_face        26579 non-null  float64\n",
      " 9   doctor_recc_h1n1             24547 non-null  float64\n",
      " 10  doctor_recc_seasonal         24547 non-null  float64\n",
      " 11  chronic_med_condition        25736 non-null  float64\n",
      " 12  child_under_6_months         25887 non-null  float64\n",
      " 13  health_worker                25903 non-null  float64\n",
      " 14  health_insurance             14433 non-null  float64\n",
      " 15  opinion_h1n1_vacc_effective  26316 non-null  float64\n",
      " 16  opinion_h1n1_risk            26319 non-null  float64\n",
      " 17  opinion_h1n1_sick_from_vacc  26312 non-null  float64\n",
      " 18  opinion_seas_vacc_effective  26245 non-null  float64\n",
      " 19  opinion_seas_risk            26193 non-null  float64\n",
      " 20  opinion_seas_sick_from_vacc  26170 non-null  float64\n",
      " 21  age_group                    26707 non-null  object \n",
      " 22  education                    25300 non-null  object \n",
      " 23  race                         26707 non-null  object \n",
      " 24  sex                          26707 non-null  object \n",
      " 25  income_poverty               22284 non-null  object \n",
      " 26  marital_status               25299 non-null  object \n",
      " 27  rent_or_own                  24665 non-null  object \n",
      " 28  employment_status            25244 non-null  object \n",
      " 29  hhs_geo_region               26707 non-null  object \n",
      " 30  census_msa                   26707 non-null  object \n",
      " 31  household_adults             26458 non-null  float64\n",
      " 32  household_children           26458 non-null  float64\n",
      " 33  employment_industry          13377 non-null  object \n",
      " 34  employment_occupation        13237 non-null  object \n",
      " 35  h1n1_vaccine                 26707 non-null  int64  \n",
      " 36  seasonal_vaccine             26707 non-null  int64  \n",
      "dtypes: float64(23), int64(2), object(12)\n",
      "memory usage: 9.0+ MB\n"
     ]
    }
   ],
   "source": [
    "df.info()\n",
    "\n",
    "# 17  health_insurance, 36  employment_industry, 37  employment_occupation  about 50% missing "
   ]
  },
  {
   "cell_type": "markdown",
   "metadata": {},
   "source": [
    "**Check for null values**"
   ]
  },
  {
   "cell_type": "code",
   "execution_count": 5,
   "metadata": {},
   "outputs": [
    {
     "data": {
      "text/plain": [
       "h1n1_concern                      92\n",
       "h1n1_knowledge                   116\n",
       "behavioral_antiviral_meds         71\n",
       "behavioral_avoidance             208\n",
       "behavioral_face_mask              19\n",
       "behavioral_wash_hands             42\n",
       "behavioral_large_gatherings       87\n",
       "behavioral_outside_home           82\n",
       "behavioral_touch_face            128\n",
       "doctor_recc_h1n1                2160\n",
       "doctor_recc_seasonal            2160\n",
       "chronic_med_condition            971\n",
       "child_under_6_months             820\n",
       "health_worker                    804\n",
       "health_insurance               12274\n",
       "opinion_h1n1_vacc_effective      391\n",
       "opinion_h1n1_risk                388\n",
       "opinion_h1n1_sick_from_vacc      395\n",
       "opinion_seas_vacc_effective      462\n",
       "opinion_seas_risk                514\n",
       "opinion_seas_sick_from_vacc      537\n",
       "age_group                          0\n",
       "education                       1407\n",
       "race                               0\n",
       "sex                                0\n",
       "income_poverty                  4423\n",
       "marital_status                  1408\n",
       "rent_or_own                     2042\n",
       "employment_status               1463\n",
       "hhs_geo_region                     0\n",
       "census_msa                         0\n",
       "household_adults                 249\n",
       "household_children               249\n",
       "employment_industry            13330\n",
       "employment_occupation          13470\n",
       "h1n1_vaccine                       0\n",
       "seasonal_vaccine                   0\n",
       "dtype: int64"
      ]
     },
     "execution_count": 5,
     "metadata": {},
     "output_type": "execute_result"
    }
   ],
   "source": [
    "df.isna().sum()"
   ]
  },
  {
   "cell_type": "markdown",
   "metadata": {},
   "source": [
    "**Functions to clean data and drop columns**"
   ]
  },
  {
   "cell_type": "code",
   "execution_count": 6,
   "metadata": {},
   "outputs": [],
   "source": [
    "def basicdropna(dataframe, column_list):\n",
    "    dataframe.dropna(subset=column_list, inplace=True)"
   ]
  },
  {
   "cell_type": "code",
   "execution_count": 7,
   "metadata": {},
   "outputs": [],
   "source": [
    "general_dropna = ['health_worker', 'education','income_poverty', 'marital_status', \n",
    "                    'rent_or_own', 'employment_status', 'household_adults', \n",
    "                    'household_children' ]\n",
    "basicdropna(df, general_dropna)"
   ]
  },
  {
   "cell_type": "code",
   "execution_count": 8,
   "metadata": {},
   "outputs": [],
   "source": [
    "def columndrop(dataframe, column_list):\n",
    "    dataframe.drop(column_list, axis = 1, inplace=True)"
   ]
  },
  {
   "cell_type": "code",
   "execution_count": 9,
   "metadata": {},
   "outputs": [],
   "source": [
    "drop_columns =  ['employment_industry',  'employment_occupation', 'hhs_geo_region']\n",
    "\n",
    "\n",
    "columndrop(df, drop_columns)"
   ]
  },
  {
   "cell_type": "markdown",
   "metadata": {},
   "source": [
    "**Can we use the median value to imput missing values?**"
   ]
  },
  {
   "cell_type": "code",
   "execution_count": 10,
   "metadata": {},
   "outputs": [
    {
     "data": {
      "text/plain": [
       "h1n1_concern                   2.0\n",
       "h1n1_knowledge                 1.0\n",
       "behavioral_antiviral_meds      0.0\n",
       "behavioral_avoidance           1.0\n",
       "behavioral_face_mask           0.0\n",
       "behavioral_wash_hands          1.0\n",
       "behavioral_large_gatherings    0.0\n",
       "behavioral_outside_home        0.0\n",
       "behavioral_touch_face          1.0\n",
       "doctor_recc_h1n1               0.0\n",
       "doctor_recc_seasonal           0.0\n",
       "chronic_med_condition          0.0\n",
       "child_under_6_months           0.0\n",
       "health_worker                  0.0\n",
       "health_insurance               1.0\n",
       "opinion_h1n1_vacc_effective    4.0\n",
       "opinion_h1n1_risk              2.0\n",
       "opinion_h1n1_sick_from_vacc    2.0\n",
       "opinion_seas_vacc_effective    4.0\n",
       "opinion_seas_risk              2.0\n",
       "opinion_seas_sick_from_vacc    2.0\n",
       "household_adults               1.0\n",
       "household_children             0.0\n",
       "h1n1_vaccine                   0.0\n",
       "seasonal_vaccine               0.0\n",
       "dtype: float64"
      ]
     },
     "execution_count": 10,
     "metadata": {},
     "output_type": "execute_result"
    }
   ],
   "source": [
    "df.median()"
   ]
  },
  {
   "cell_type": "markdown",
   "metadata": {},
   "source": [
    "**Insight: for survey items where the scoring is 1-5, use 3 (don't know) to fill missing values. We cannot simply use the median, as this might indicate inaccurate knowledge on the part of the respondant.**\n"
   ]
  },
  {
   "cell_type": "code",
   "execution_count": 11,
   "metadata": {},
   "outputs": [],
   "source": [
    "survey_col = ['opinion_h1n1_vacc_effective',\n",
    " 'opinion_h1n1_risk', 'opinion_h1n1_sick_from_vacc',\n",
    " 'opinion_seas_vacc_effective', 'opinion_seas_risk',\n",
    " 'opinion_seas_sick_from_vacc']"
   ]
  },
  {
   "cell_type": "code",
   "execution_count": 12,
   "metadata": {},
   "outputs": [],
   "source": [
    "def impute_missing_data(dataframe, column_list, fillvalue):\n",
    "    '''column_list can be a single column or a list of columns'''\n",
    "    for column in column_list:\n",
    "        dataframe[column].fillna(fillvalue, inplace = True)"
   ]
  },
  {
   "cell_type": "code",
   "execution_count": 13,
   "metadata": {},
   "outputs": [],
   "source": [
    "impute_missing_data(df, survey_col, 3)"
   ]
  },
  {
   "cell_type": "code",
   "execution_count": 14,
   "metadata": {},
   "outputs": [
    {
     "name": "stdout",
     "output_type": "stream",
     "text": [
      "<class 'pandas.core.frame.DataFrame'>\n",
      "Int64Index: 21863 entries, 0 to 26706\n",
      "Data columns (total 34 columns):\n",
      " #   Column                       Non-Null Count  Dtype  \n",
      "---  ------                       --------------  -----  \n",
      " 0   h1n1_concern                 21825 non-null  float64\n",
      " 1   h1n1_knowledge               21792 non-null  float64\n",
      " 2   behavioral_antiviral_meds    21815 non-null  float64\n",
      " 3   behavioral_avoidance         21720 non-null  float64\n",
      " 4   behavioral_face_mask         21853 non-null  float64\n",
      " 5   behavioral_wash_hands        21842 non-null  float64\n",
      " 6   behavioral_large_gatherings  21805 non-null  float64\n",
      " 7   behavioral_outside_home      21817 non-null  float64\n",
      " 8   behavioral_touch_face        21774 non-null  float64\n",
      " 9   doctor_recc_h1n1             20253 non-null  float64\n",
      " 10  doctor_recc_seasonal         20253 non-null  float64\n",
      " 11  chronic_med_condition        21701 non-null  float64\n",
      " 12  child_under_6_months         21863 non-null  float64\n",
      " 13  health_worker                21863 non-null  float64\n",
      " 14  health_insurance             12463 non-null  float64\n",
      " 15  opinion_h1n1_vacc_effective  21863 non-null  float64\n",
      " 16  opinion_h1n1_risk            21863 non-null  float64\n",
      " 17  opinion_h1n1_sick_from_vacc  21863 non-null  float64\n",
      " 18  opinion_seas_vacc_effective  21863 non-null  float64\n",
      " 19  opinion_seas_risk            21863 non-null  float64\n",
      " 20  opinion_seas_sick_from_vacc  21863 non-null  float64\n",
      " 21  age_group                    21863 non-null  object \n",
      " 22  education                    21863 non-null  object \n",
      " 23  race                         21863 non-null  object \n",
      " 24  sex                          21863 non-null  object \n",
      " 25  income_poverty               21863 non-null  object \n",
      " 26  marital_status               21863 non-null  object \n",
      " 27  rent_or_own                  21863 non-null  object \n",
      " 28  employment_status            21863 non-null  object \n",
      " 29  census_msa                   21863 non-null  object \n",
      " 30  household_adults             21863 non-null  float64\n",
      " 31  household_children           21863 non-null  float64\n",
      " 32  h1n1_vaccine                 21863 non-null  int64  \n",
      " 33  seasonal_vaccine             21863 non-null  int64  \n",
      "dtypes: float64(23), int64(2), object(9)\n",
      "memory usage: 5.8+ MB\n"
     ]
    }
   ],
   "source": [
    "df.info()"
   ]
  },
  {
   "cell_type": "code",
   "execution_count": 15,
   "metadata": {},
   "outputs": [],
   "source": [
    "x_df = df.copy()\n",
    "\n",
    "survey_col = ['opinion_h1n1_vacc_effective', 'opinion_h1n1_risk', 'opinion_h1n1_sick_from_vacc',\n",
    " 'opinion_seas_vacc_effective', 'opinion_seas_risk','opinion_seas_sick_from_vacc']\n",
    "\n",
    "behavior_col = ['behavioral_antiviral_meds', 'behavioral_avoidance', 'behavioral_face_mask',\n",
    "                'behavioral_wash_hands','behavioral_large_gatherings','behavioral_outside_home','behavioral_touch_face']\n",
    "\n",
    "doc_rec = ['doctor_recc_h1n1','doctor_recc_seasonal']\n",
    "\n",
    "# def impute_missing_data(dataframe, column_list, fillvalue):\n",
    "#     for column in column_list:\n",
    "#         dataframe[column].fillna(fillvalue, inplace = True)\n",
    "      \n",
    "    \n",
    "impute_missing_data(x_df, survey_col, 3)\n",
    "impute_missing_data(x_df, ['h1n1_concern'], 2)\n",
    "impute_missing_data(x_df, ['h1n1_knowledge'], 0)\n",
    "impute_missing_data(x_df, behavior_col, 0)\n",
    "impute_missing_data(x_df, doc_rec, 0)\n",
    "impute_missing_data(x_df, ['chronic_med_condition'], 0)\n",
    "impute_missing_data(x_df, ['child_under_6_months'], 0)"
   ]
  },
  {
   "cell_type": "code",
   "execution_count": 16,
   "metadata": {},
   "outputs": [
    {
     "name": "stdout",
     "output_type": "stream",
     "text": [
      "<class 'pandas.core.frame.DataFrame'>\n",
      "Int64Index: 21863 entries, 0 to 26706\n",
      "Data columns (total 34 columns):\n",
      " #   Column                       Non-Null Count  Dtype  \n",
      "---  ------                       --------------  -----  \n",
      " 0   h1n1_concern                 21863 non-null  float64\n",
      " 1   h1n1_knowledge               21863 non-null  float64\n",
      " 2   behavioral_antiviral_meds    21863 non-null  float64\n",
      " 3   behavioral_avoidance         21863 non-null  float64\n",
      " 4   behavioral_face_mask         21863 non-null  float64\n",
      " 5   behavioral_wash_hands        21863 non-null  float64\n",
      " 6   behavioral_large_gatherings  21863 non-null  float64\n",
      " 7   behavioral_outside_home      21863 non-null  float64\n",
      " 8   behavioral_touch_face        21863 non-null  float64\n",
      " 9   doctor_recc_h1n1             21863 non-null  float64\n",
      " 10  doctor_recc_seasonal         21863 non-null  float64\n",
      " 11  chronic_med_condition        21863 non-null  float64\n",
      " 12  child_under_6_months         21863 non-null  float64\n",
      " 13  health_worker                21863 non-null  float64\n",
      " 14  health_insurance             12463 non-null  float64\n",
      " 15  opinion_h1n1_vacc_effective  21863 non-null  float64\n",
      " 16  opinion_h1n1_risk            21863 non-null  float64\n",
      " 17  opinion_h1n1_sick_from_vacc  21863 non-null  float64\n",
      " 18  opinion_seas_vacc_effective  21863 non-null  float64\n",
      " 19  opinion_seas_risk            21863 non-null  float64\n",
      " 20  opinion_seas_sick_from_vacc  21863 non-null  float64\n",
      " 21  age_group                    21863 non-null  object \n",
      " 22  education                    21863 non-null  object \n",
      " 23  race                         21863 non-null  object \n",
      " 24  sex                          21863 non-null  object \n",
      " 25  income_poverty               21863 non-null  object \n",
      " 26  marital_status               21863 non-null  object \n",
      " 27  rent_or_own                  21863 non-null  object \n",
      " 28  employment_status            21863 non-null  object \n",
      " 29  census_msa                   21863 non-null  object \n",
      " 30  household_adults             21863 non-null  float64\n",
      " 31  household_children           21863 non-null  float64\n",
      " 32  h1n1_vaccine                 21863 non-null  int64  \n",
      " 33  seasonal_vaccine             21863 non-null  int64  \n",
      "dtypes: float64(23), int64(2), object(9)\n",
      "memory usage: 5.8+ MB\n"
     ]
    }
   ],
   "source": [
    "x_df.info()"
   ]
  },
  {
   "cell_type": "markdown",
   "metadata": {},
   "source": [
    "**Insight: health insurance is missing many values and is usually an imporant indicator for treatment. We will use knnimputer to fill in missing values in order to keep the feature.**"
   ]
  },
  {
   "cell_type": "code",
   "execution_count": 17,
   "metadata": {},
   "outputs": [],
   "source": [
    "X=x_df.drop(['h1n1_vaccine','seasonal_vaccine'], axis=1)\n",
    "y=x_df[['h1n1_vaccine','seasonal_vaccine']]\n",
    "\n",
    "# Train test split, do this before OHE\n",
    "\n",
    "X_train, X_test, y_train, y_test = train_test_split(X, y, test_size=0.3, random_state=42)"
   ]
  },
  {
   "cell_type": "markdown",
   "metadata": {},
   "source": [
    "**OHE for object data types, then impute with KNNImputer**"
   ]
  },
  {
   "cell_type": "code",
   "execution_count": 18,
   "metadata": {},
   "outputs": [],
   "source": [
    "# create OHE for objects, do this before imputer\n",
    "\n",
    "cat_col_list = [i for i in X_train.select_dtypes(include='object').columns]\n",
    "\n",
    "nb_list_for_ohe = ['h1n1_concern', 'h1n1_knowledge', 'opinion_h1n1_vacc_effective',\n",
    "'opinion_h1n1_risk', 'opinion_h1n1_sick_from_vacc', 'opinion_seas_vacc_effective',\n",
    "'opinion_seas_risk', 'opinion_seas_sick_from_vacc']\n",
    "\n",
    "# Fits OHE on a subset of columns, then reintegrates them into the\n",
    "# Origional dataframe. Do this after initial cleaning, before \n",
    "# health insurace imputation.\n",
    "\n",
    "ohe = OneHotEncoder(drop='first', sparse=False)\n",
    "\n",
    "def fit_trans_ohe(X_dataframe, columns):\n",
    "    dums = ohe.fit_transform(X_dataframe[columns])\n",
    "    dums_df = pd.DataFrame(dums,\n",
    "                       columns=ohe.get_feature_names(),\n",
    "                       index=X_dataframe.index)\n",
    "    df_cols_dropped = X_dataframe.drop(columns, axis = 1)\n",
    "    dums_df_concated = pd.concat([df_cols_dropped, dums_df], axis=1)\n",
    "    return dums_df_concated\n",
    "\n",
    "#We should end up with a fitted ohe instance called 'ohe'"
   ]
  },
  {
   "cell_type": "code",
   "execution_count": 19,
   "metadata": {},
   "outputs": [],
   "source": [
    "X_train_ohe = fit_trans_ohe(X_train, cat_col_list+nb_list_for_ohe)"
   ]
  },
  {
   "cell_type": "markdown",
   "metadata": {},
   "source": [
    "**Fitting an imputer for Health Insurance using socio-economic features, then pulling from a dataframe that has already been OneHotEncoded**"
   ]
  },
  {
   "cell_type": "code",
   "execution_count": 20,
   "metadata": {},
   "outputs": [],
   "source": [
    "    \n",
    "socio_economic_column_list = [\"x0_35 - 44 Years\",\"x0_45 - 54 Years\",\"x0_55 - 64 Years\",\"x0_65+ Years\",\n",
    "                              \"x1_< 12 Years\",\"x1_College Graduate\",\"x1_Some College\",\"x2_Hispanic\",\n",
    "                              \"x2_Other or Multiple\",\"x2_White\",\"x3_Male\", \"x4_> $75,000\", \"x4_Below Poverty\",\n",
    "                              \"x5_Not Married\", \"x6_Rent\", \"x7_Not in Labor Force\",\"x7_Unemployed\",\n",
    "                              \"x8_MSA, Principle City\",'x8_Non-MSA', 'health_insurance']\n",
    "\n",
    "# Fitting an imputer for Health Insurance using socio-economic features, \n",
    "# pulling from a dataframe that has already been OneHotEncoded\n",
    "\n",
    "\n",
    "soc_eco_h_i_imputer_knn = KNNImputer()\n",
    "\n",
    "def soc_eco_KNN_imputer(imputer, dataframe, column_list):\n",
    "    soc_econ_base = dataframe[column_list]\n",
    "    soc_econ_imputed = pd.DataFrame(imputer.fit_transform(soc_econ_base), \n",
    "                                         columns = soc_econ_base.columns,\n",
    "                                        index=soc_econ_base.index)\n",
    "    remainder_df = dataframe.drop(column_list, axis = 1)\n",
    "    output_df = remainder_df.join(soc_econ_imputed)\n",
    "    output_df.health_insurance = output_df.health_insurance.round() \n",
    "\n",
    "    return output_df\n"
   ]
  },
  {
   "cell_type": "code",
   "execution_count": 21,
   "metadata": {},
   "outputs": [],
   "source": [
    "X_train_imputed = soc_eco_KNN_imputer(soc_eco_h_i_imputer_knn, X_train_ohe, socio_economic_column_list)"
   ]
  },
  {
   "cell_type": "markdown",
   "metadata": {},
   "source": [
    "**Now we OHE for the test set. Takes X test dataframe and list of columns to encoded**"
   ]
  },
  {
   "cell_type": "code",
   "execution_count": 22,
   "metadata": {},
   "outputs": [],
   "source": [
    "\n",
    "def trans_ohe(X_dataframe, columns):\n",
    "    dums = ohe.transform(X_dataframe[columns])\n",
    "    dums_df = pd.DataFrame(dums,\n",
    "                       columns=ohe.get_feature_names(),\n",
    "                       index=X_dataframe.index)\n",
    "    df_cols_dropped = X_dataframe.drop(columns, axis = 1)\n",
    "    dums_df_concated = pd.concat([df_cols_dropped, dums_df], axis=1)\n",
    "    return dums_df_concated"
   ]
  },
  {
   "cell_type": "code",
   "execution_count": 23,
   "metadata": {},
   "outputs": [],
   "source": [
    "X_test_ohe = trans_ohe(X_test, cat_col_list+nb_list_for_ohe)"
   ]
  },
  {
   "cell_type": "code",
   "execution_count": 24,
   "metadata": {},
   "outputs": [],
   "source": [
    "def imputer_transform_only(imputer, dataframe, column_list):\n",
    "    soc_econ_base = dataframe[column_list]\n",
    "    soc_econ_imputed = pd.DataFrame(imputer.transform(soc_econ_base), \n",
    "                                         columns = soc_econ_base.columns,\n",
    "                                        index=soc_econ_base.index)\n",
    "    remainder_df = dataframe.drop(column_list, axis = 1)\n",
    "    output_df = remainder_df.join(soc_econ_imputed)\n",
    "    output_df.health_insurance = output_df.health_insurance.round()\n",
    "    \n",
    "    return output_df"
   ]
  },
  {
   "cell_type": "code",
   "execution_count": 25,
   "metadata": {},
   "outputs": [],
   "source": [
    "X_test_imputed = imputer_transform_only(soc_eco_h_i_imputer_knn, X_test_ohe, socio_economic_column_list)"
   ]
  },
  {
   "cell_type": "markdown",
   "metadata": {},
   "source": [
    "### We now have a working dataset of: \n",
    "    'X_train_imputed' and 'y_train' to fit models to, 'X_test_imputed' to generate predictions, and 'y_test' to validate models with."
   ]
  },
  {
   "cell_type": "markdown",
   "metadata": {},
   "source": [
    "**Save training and test data to csv files for model creation and tuning**"
   ]
  },
  {
   "cell_type": "code",
   "execution_count": 27,
   "metadata": {},
   "outputs": [],
   "source": [
    "import os\n",
    "cwd = os.getcwd()\n",
    "path = cwd + '/Data/X_train_imputed.csv'\n",
    "X_train_imputed.to_csv(path, index=False)"
   ]
  },
  {
   "cell_type": "code",
   "execution_count": 28,
   "metadata": {},
   "outputs": [],
   "source": [
    "\n",
    "cwd = os.getcwd()\n",
    "path = cwd + '/Data/X_test_imputed.csv'\n",
    "X_test_imputed.to_csv(path, index=False)"
   ]
  },
  {
   "cell_type": "code",
   "execution_count": 29,
   "metadata": {},
   "outputs": [],
   "source": [
    "\n",
    "cwd = os.getcwd()\n",
    "path = cwd + '/Data/y_train.csv'\n",
    "y_train.to_csv(path, index=False)"
   ]
  },
  {
   "cell_type": "code",
   "execution_count": 30,
   "metadata": {},
   "outputs": [],
   "source": [
    "\n",
    "cwd = os.getcwd()\n",
    "path = cwd + '/Data/y_test.csv'\n",
    "y_test.to_csv(path, index=False)"
   ]
  },
  {
   "cell_type": "code",
   "execution_count": null,
   "metadata": {},
   "outputs": [],
   "source": []
  }
 ],
 "metadata": {
  "kernelspec": {
   "display_name": "Python (learn-env)",
   "language": "python",
   "name": "learn-env"
  },
  "language_info": {
   "codemirror_mode": {
    "name": "ipython",
    "version": 3
   },
   "file_extension": ".py",
   "mimetype": "text/x-python",
   "name": "python",
   "nbconvert_exporter": "python",
   "pygments_lexer": "ipython3",
   "version": "3.8.5"
  }
 },
 "nbformat": 4,
 "nbformat_minor": 4
}
