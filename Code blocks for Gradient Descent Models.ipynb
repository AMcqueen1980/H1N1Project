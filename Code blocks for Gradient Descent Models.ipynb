{
 "cells": [
  {
   "cell_type": "code",
   "execution_count": null,
   "metadata": {},
   "outputs": [],
   "source": [
    "seasonalgbcbest = GradientBoostingClassifier(loss= 'exponential', learning_rate= .05, random_state = 14,\n",
    "                                                max_depth=3, max_features='log2', n_estimators=700)\n",
    "\n",
    "final_h1n1_GD_model = GradientBoostingClassifier(loss= 'exponential', learning_rate= .05, random_state = 14,\n",
    "                                                max_depth=3, max_features='log2', n_estimators=700)"
   ]
  }
 ],
 "metadata": {
  "kernelspec": {
   "display_name": "Python (learn-env)",
   "language": "python",
   "name": "learn-env"
  },
  "language_info": {
   "codemirror_mode": {
    "name": "ipython",
    "version": 3
   },
   "file_extension": ".py",
   "mimetype": "text/x-python",
   "name": "python",
   "nbconvert_exporter": "python",
   "pygments_lexer": "ipython3",
   "version": "3.8.5"
  }
 },
 "nbformat": 4,
 "nbformat_minor": 4
}
