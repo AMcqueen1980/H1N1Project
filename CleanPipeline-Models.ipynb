{
 "cells": [
  {
   "cell_type": "code",
   "execution_count": 1,
   "metadata": {},
   "outputs": [],
   "source": [
    "from sklearn.pipeline import Pipeline\n",
    "from sklearn.compose import ColumnTransformer\n",
    "\n",
    "\n",
    "import pandas as pd\n",
    "import numpy as np\n",
    "import matplotlib.pyplot as plt\n",
    "import seaborn as sns\n",
    "\n",
    "from sklearn.model_selection import train_test_split\n",
    "from sklearn.preprocessing import normalize,StandardScaler, OneHotEncoder\n",
    "from sklearn.linear_model import LinearRegression, LogisticRegression, Ridge\n",
    "from sklearn.metrics import log_loss\n",
    "from sklearn.metrics import mean_squared_error, r2_score\n",
    "from sklearn.ensemble import RandomForestClassifier\n",
    "from sklearn.neighbors import KNeighborsClassifier\n",
    "from sklearn.pipeline import Pipeline\n",
    "from sklearn.tree import DecisionTreeClassifier \n",
    "from sklearn.impute import SimpleImputer, KNNImputer\n",
    "from sklearn.compose import ColumnTransformer\n",
    "from sklearn.metrics import roc_curve, roc_auc_score\n",
    "\n",
    "from sklearn.dummy import DummyClassifier\n",
    "from sklearn.model_selection import cross_val_score, cross_validate\n",
    "\n",
    "\n",
    "from sklearn.tree import DecisionTreeClassifier \n",
    "\n",
    "from sklearn.ensemble import AdaBoostClassifier, GradientBoostingClassifier\n",
    "\n",
    "\n",
    "\n"
   ]
  },
  {
   "cell_type": "code",
   "execution_count": 2,
   "metadata": {},
   "outputs": [],
   "source": [
    "features_df = pd.read_csv('../Data/training_set_features.csv', index_col=\"respondent_id\")\n",
    "labels_df = pd.read_csv('../Data/training_set_labels.csv', index_col=\"respondent_id\")\n",
    "joined_df = features_df.join(labels_df, how = 'inner')"
   ]
  },
  {
   "cell_type": "code",
   "execution_count": 3,
   "metadata": {},
   "outputs": [],
   "source": [
    "# an all-in-one data cleaning function. Do this BEFORE OHE\n",
    "# Maybe this should be a class and worked into the pipeline?\n",
    "def datacleaner(maindataframe):\n",
    "    #For dropping whole columns \n",
    "    def columndrop(dataframe, column_list):\n",
    "        dataframe.drop(column_list, axis = 1, inplace=True)\n",
    "    #For dropping rows with na values\n",
    "    def basicdropna(dataframe, column_list):\n",
    "        dataframe.dropna(subset=column_list, inplace=True)\n",
    "    #For special case imputation\n",
    "    def impute_missing_data(dataframe, column_list, fillvalue):\n",
    "        for column in column_list:\n",
    "            dataframe[column].fillna(fillvalue, inplace = True)\n",
    "    #This creates a number of lists of columns that fall into a few different \n",
    "    #categories, that will be processed in different ways. See notes below on how\n",
    "    #these choices were made.\n",
    "    drop_columns =  ['employment_industry',  'employment_occupation', 'hhs_geo_region']       \n",
    "        \n",
    "    general_dropna = ['health_worker', 'education','income_poverty', 'marital_status', \n",
    "                    'rent_or_own', 'employment_status', 'household_adults', \n",
    "                    'household_children' ]\n",
    "        \n",
    "    survey_col = ['opinion_h1n1_vacc_effective', 'opinion_h1n1_risk', 'opinion_h1n1_sick_from_vacc',\n",
    "         'opinion_seas_vacc_effective', 'opinion_seas_risk','opinion_seas_sick_from_vacc']\n",
    "\n",
    "    behavior_col = ['behavioral_antiviral_meds', 'behavioral_face_mask',\n",
    "                'behavioral_large_gatherings','behavioral_outside_home']\n",
    "\n",
    "    behavior_col_2 = ['behavioral_avoidance', \n",
    "                'behavioral_wash_hands','behavioral_touch_face']\n",
    "\n",
    "    doc_rec = ['doctor_recc_h1n1','doctor_recc_seasonal']\n",
    "    \n",
    "    basicdropna(maindataframe, general_dropna)\n",
    "    columndrop(maindataframe, drop_columns)\n",
    "    impute_missing_data(maindataframe, survey_col, 3)\n",
    "    impute_missing_data(maindataframe, ['h1n1_concern'], 2)\n",
    "    impute_missing_data(maindataframe, ['h1n1_knowledge'], 0)\n",
    "    impute_missing_data(maindataframe, behavior_col, 0)\n",
    "    impute_missing_data(maindataframe, behavior_col_2, 1)\n",
    "    impute_missing_data(maindataframe, doc_rec, 0)\n",
    "    impute_missing_data(maindataframe, ['chronic_med_condition'], 0)\n",
    "    impute_missing_data(maindataframe, ['child_under_6_months'], 0)\n"
   ]
  },
  {
   "cell_type": "code",
   "execution_count": 4,
   "metadata": {},
   "outputs": [],
   "source": [
    "datacleaner(joined_df)"
   ]
  },
  {
   "cell_type": "code",
   "execution_count": 5,
   "metadata": {},
   "outputs": [],
   "source": [
    "X=joined_df.drop(['h1n1_vaccine','seasonal_vaccine'], axis=1)\n",
    "y=joined_df[['h1n1_vaccine','seasonal_vaccine']]\n",
    "\n",
    "# Train test split, do this before OHE\n",
    "\n",
    "X_train, X_test, y_train, y_test = train_test_split(X, y, test_size=0.3, random_state=42)\n"
   ]
  },
  {
   "cell_type": "code",
   "execution_count": 6,
   "metadata": {},
   "outputs": [],
   "source": [
    "# create OHE for objects, do this before imputer\n",
    "\n",
    "cat_col_list = [i for i in X_train.select_dtypes(include='object').columns]\n",
    "\n",
    "nb_list_for_ohe = ['h1n1_concern', 'h1n1_knowledge', 'opinion_h1n1_vacc_effective',\n",
    "'opinion_h1n1_risk', 'opinion_h1n1_sick_from_vacc', 'opinion_seas_vacc_effective',\n",
    "'opinion_seas_risk', 'opinion_seas_sick_from_vacc']\n",
    "\n",
    "# Fits OHE on a subset of columns, then reintegrates them into the\n",
    "# Origional dataframe. Do this after initial cleaning, before \n",
    "# health insurace imputation.\n",
    "\n",
    "ohe = OneHotEncoder(drop='first', sparse=False)\n",
    "\n",
    "def fit_trans_ohe(X_dataframe, columns):\n",
    "        \n",
    "    dums = ohe.fit_transform(X_dataframe[columns])\n",
    "    dums_df = pd.DataFrame(dums,\n",
    "                       columns=ohe.get_feature_names(),\n",
    "                       index=X_dataframe.index)\n",
    "    df_cat_dropped = X_dataframe.drop(cat_col_list, axis = 1)\n",
    "    dums_df_concated = pd.concat([df_cat_dropped, dums_df], axis=1)\n",
    "    return dums_df_concated\n",
    "\n",
    "#We should end up with a fitted ohe instance called 'ohe'"
   ]
  },
  {
   "cell_type": "code",
   "execution_count": 7,
   "metadata": {},
   "outputs": [],
   "source": [
    "X_train_ohe = fit_trans_ohe(X_train, cat_col_list+nb_list_for_ohe)"
   ]
  },
  {
   "cell_type": "code",
   "execution_count": 8,
   "metadata": {},
   "outputs": [],
   "source": [
    "    \n",
    "socio_economic_column_list = [\"x0_35 - 44 Years\",\"x0_45 - 54 Years\",\"x0_55 - 64 Years\",\"x0_65+ Years\",\n",
    "                              \"x1_< 12 Years\",\"x1_College Graduate\",\"x1_Some College\",\"x2_Hispanic\",\n",
    "                              \"x2_Other or Multiple\",\"x2_White\",\"x3_Male\", \"x4_> $75,000\", \"x4_Below Poverty\",\n",
    "                              \"x5_Not Married\", \"x6_Rent\", \"x7_Not in Labor Force\",\"x7_Unemployed\",\n",
    "                              \"x8_MSA, Principle City\",'x8_Non-MSA', 'health_insurance']\n",
    "\n",
    "# Fitting an imputer for Health Insurance using socio-economic features, \n",
    "# pulling from a dataframe that has already been OneHotEncoded\n",
    "\n",
    "\n",
    "soc_eco_h_i_imputer_knn = KNNImputer()\n",
    "\n",
    "def soc_eco_KNN_imputer(imputer, dataframe, column_list):\n",
    "    soc_econ_base = dataframe[column_list]\n",
    "    soc_econ_imputed = pd.DataFrame(imputer.fit_transform(soc_econ_base), \n",
    "                                         columns = soc_econ_base.columns,\n",
    "                                        index=soc_econ_base.index)\n",
    "    remainder_df = dataframe.drop(column_list, axis = 1)\n",
    "    output_df = remainder_df.join(soc_econ_imputed)\n",
    "    output_df.health_insurance = output_df.health_insurance.round() \n",
    "\n",
    "    return output_df\n"
   ]
  },
  {
   "cell_type": "code",
   "execution_count": 9,
   "metadata": {},
   "outputs": [],
   "source": [
    "X_train_imputed = soc_eco_KNN_imputer(soc_eco_h_i_imputer_knn, X_train_ohe, socio_economic_column_list)"
   ]
  },
  {
   "cell_type": "code",
   "execution_count": 10,
   "metadata": {},
   "outputs": [],
   "source": [
    "# The OHE for the test set only, takes X test dataframe and list of columns to encoded:\n",
    "def trans_ohe(X_dataframe, columns):\n",
    "    dums = ohe.transform(X_dataframe[columns])\n",
    "    dums_df = pd.DataFrame(dums,\n",
    "                       columns=ohe.get_feature_names(),\n",
    "                       index=X_dataframe.index)\n",
    "    df_cat_dropped = X_dataframe.drop(cat_col_list, axis = 1)\n",
    "    dums_df_concated = pd.concat([df_cat_dropped, dums_df], axis=1)\n",
    "    return dums_df_concated"
   ]
  },
  {
   "cell_type": "code",
   "execution_count": 11,
   "metadata": {},
   "outputs": [],
   "source": [
    "X_test_ohe = trans_ohe(X_test, cat_col_list+nb_list_for_ohe)"
   ]
  },
  {
   "cell_type": "code",
   "execution_count": 12,
   "metadata": {},
   "outputs": [],
   "source": [
    "def imputer_transform_only(imputer, dataframe, column_list):\n",
    "    soc_econ_base = dataframe[column_list]\n",
    "    soc_econ_imputed = pd.DataFrame(imputer.transform(soc_econ_base), \n",
    "                                         columns = soc_econ_base.columns,\n",
    "                                        index=soc_econ_base.index)\n",
    "    remainder_df = dataframe.drop(column_list, axis = 1)\n",
    "    output_df = remainder_df.join(soc_econ_imputed)\n",
    "    output_df.health_insurance = output_df.health_insurance.round()\n",
    "    \n",
    "    return output_df"
   ]
  },
  {
   "cell_type": "code",
   "execution_count": 13,
   "metadata": {},
   "outputs": [],
   "source": [
    "X_test_imputed = imputer_transform_only(soc_eco_h_i_imputer_knn, X_test_ohe, socio_economic_column_list)"
   ]
  },
  {
   "cell_type": "markdown",
   "metadata": {},
   "source": [
    "### We now have a working dataset of: \n",
    "    'X_train_imputed' and 'y_train' to fit models to, 'X_test_ohe' to generate predictions, and 'y_test' to validate models with."
   ]
  },
  {
   "cell_type": "markdown",
   "metadata": {},
   "source": [
    "### Baseline Model"
   ]
  },
  {
   "cell_type": "code",
   "execution_count": 14,
   "metadata": {},
   "outputs": [
    {
     "data": {
      "text/plain": [
       "0    0.783521\n",
       "1    0.216479\n",
       "Name: h1n1_vaccine, dtype: float64"
      ]
     },
     "execution_count": 14,
     "metadata": {},
     "output_type": "execute_result"
    }
   ],
   "source": [
    "y_train.h1n1_vaccine.value_counts(normalize=True) # =>Change to DummyClassifier  "
   ]
  },
  {
   "cell_type": "code",
   "execution_count": 15,
   "metadata": {},
   "outputs": [
    {
     "data": {
      "text/plain": [
       "0    0.531887\n",
       "1    0.468113\n",
       "Name: seasonal_vaccine, dtype: float64"
      ]
     },
     "execution_count": 15,
     "metadata": {},
     "output_type": "execute_result"
    }
   ],
   "source": [
    "y_train.seasonal_vaccine.value_counts(normalize=True)  # =>Change to DummyClassifier  "
   ]
  },
  {
   "cell_type": "markdown",
   "metadata": {},
   "source": [
    "### Decision Tree Classifier"
   ]
  },
  {
   "cell_type": "code",
   "execution_count": 17,
   "metadata": {},
   "outputs": [
    {
     "name": "stdout",
     "output_type": "stream",
     "text": [
      "Decision Tree, H1N1, cv ROC_AUC score:0.6511454642188009\n",
      "Decision Tree, Seasonal, cv ROC_AUC score:0.6710646290156932\n"
     ]
    }
   ],
   "source": [
    "#since the best parameters are the same, we use the same estimator\n",
    "\n",
    "\n",
    "dt_f = DecisionTreeClassifier(criterion='entropy', splitter='random')\n",
    "\n",
    "dt_f.fit(X_train_imputed, y_train)\n",
    "\n",
    "# HlN1 \n",
    "\n",
    "h1n1_dt = cross_val_score(dt_f, X_test_imputed, y_test['h1n1_vaccine'], scoring='roc_auc', cv=5).mean()\n",
    "\n",
    "# Seasonal Flu\n",
    "\n",
    "\n",
    "sea_dt = cross_val_score(dt_f, X_test_imputed, y_test['seasonal_vaccine'], scoring='roc_auc', cv=5).mean()\n",
    "\n",
    "print(f'Decision Tree, H1N1, cv ROC_AUC score:{h1n1_dt}')\n",
    "print(f'Decision Tree, Seasonal, cv ROC_AUC score:{sea_dt}')\n",
    "\n"
   ]
  },
  {
   "cell_type": "code",
   "execution_count": null,
   "metadata": {},
   "outputs": [],
   "source": []
  },
  {
   "cell_type": "code",
   "execution_count": null,
   "metadata": {},
   "outputs": [],
   "source": []
  },
  {
   "cell_type": "markdown",
   "metadata": {},
   "source": [
    "### KNN"
   ]
  },
  {
   "cell_type": "code",
   "execution_count": 18,
   "metadata": {},
   "outputs": [
    {
     "name": "stdout",
     "output_type": "stream",
     "text": [
      "KNN, H1N1, cv ROC_AUC score:0.7778397377091224\n",
      "KNN, Seasonal, cv ROC_AUC score:0.8192882404106621\n"
     ]
    }
   ],
   "source": [
    "# HlN1 \n",
    "\n",
    "knn_f_h1 = KNeighborsClassifier(n_neighbors=19, metric='manhattan')\n",
    "knn_f_h1.fit(X_train_imputed, y_train)\n",
    "\n",
    "h1n1_knn = cross_val_score(knn_f_h1, X_test_imputed, y_test['h1n1_vaccine'], scoring='roc_auc', cv=5).mean()\n",
    "\n",
    "# Seasonal Flu \n",
    "\n",
    "knn_f_s = KNeighborsClassifier(n_neighbors=27, metric='manhattan')\n",
    "knn_f_s.fit(X_train_imputed, y_train)\n",
    "\n",
    "sea_knn = cross_val_score(knn_f_s, X_test_imputed, y_test['seasonal_vaccine'], scoring='roc_auc', cv=5).mean()\n",
    "\n",
    "\n",
    "print(f'KNN, H1N1, cv ROC_AUC score:{h1n1_knn}')\n",
    "print(f'KNN, Seasonal, cv ROC_AUC score:{sea_knn}')\n",
    "\n",
    "\n"
   ]
  },
  {
   "cell_type": "code",
   "execution_count": null,
   "metadata": {},
   "outputs": [],
   "source": []
  },
  {
   "cell_type": "code",
   "execution_count": null,
   "metadata": {},
   "outputs": [],
   "source": []
  },
  {
   "cell_type": "markdown",
   "metadata": {},
   "source": [
    "### Logistic Regression"
   ]
  },
  {
   "cell_type": "code",
   "execution_count": 19,
   "metadata": {},
   "outputs": [
    {
     "name": "stdout",
     "output_type": "stream",
     "text": [
      "Logistic, H1N1, cv ROC_AUC score:0.8396352756088232\n",
      "Logistic, Seasonal, cv ROC_AUC score:0.8564572353773524\n"
     ]
    }
   ],
   "source": [
    "\n",
    "# H1N1 \n",
    "# {'C': 1.0, 'class_weight': 'balanced', 'max_iter': 1000000, 'penalty': 'l1', 'solver': 'saga'}\n",
    "\n",
    "\n",
    "log_f_h1=LogisticRegression(C=1,penalty=\"l1\", class_weight='balanced', max_iter=1000000,\n",
    "                              solver='saga')\n",
    "\n",
    "log_f_h1.fit(X_train_imputed, y_train.h1n1_vaccine)\n",
    "\n",
    "h1n1_log = cross_val_score(estimator=log_f_h1, X=X_train_imputed, y=y_train.h1n1_vaccine, \n",
    "                cv=5, scoring='roc_auc').mean() \n",
    "\n",
    "# Seasonal \n",
    "#{'C': 1.0, 'class_weight': 'balanced', 'max_iter': 10000, 'penalty': 'l1', 'solver': 'saga'}\n",
    "\n",
    "\n",
    "log_f_s=LogisticRegression(C=1,penalty=\"l1\", class_weight='balanced', max_iter=10000,\n",
    "                              solver='saga')\n",
    "log_f_s.fit(X_train_imputed, y_train.h1n1_vaccine)\n",
    "\n",
    "sea_log = cross_val_score(estimator=log_f_s, X=X_train_imputed, y=y_train.seasonal_vaccine, \n",
    "                cv=5, scoring='roc_auc').mean() \n",
    "\n",
    "\n",
    "print(f'Logistic, H1N1, cv ROC_AUC score:{h1n1_log}')\n",
    "print(f'Logistic, Seasonal, cv ROC_AUC score:{sea_log}')\n"
   ]
  },
  {
   "cell_type": "code",
   "execution_count": null,
   "metadata": {},
   "outputs": [],
   "source": []
  },
  {
   "cell_type": "code",
   "execution_count": null,
   "metadata": {},
   "outputs": [],
   "source": []
  },
  {
   "cell_type": "markdown",
   "metadata": {},
   "source": [
    "### GradientBoostingClassifier"
   ]
  },
  {
   "cell_type": "code",
   "execution_count": 20,
   "metadata": {},
   "outputs": [],
   "source": [
    "# H1N1 \n",
    "\n",
    "gbc_f_h1 = GradientBoostingClassifier(loss= 'exponential', learning_rate= .05, random_state = 14,\n",
    "                                                max_depth=3, max_features='log2', n_estimators=700)\n",
    "\n",
    "gbc_f_h1.fit(X_train_imputed, y_train['h1n1_vaccine'])\n",
    "\n",
    "h1n1_gbc = cross_val_score(gbc_f_h1, X_train_imputed, y_train['h1n1_vaccine'], scoring='roc_auc')\n",
    "\n"
   ]
  },
  {
   "cell_type": "code",
   "execution_count": 21,
   "metadata": {},
   "outputs": [
    {
     "name": "stdout",
     "output_type": "stream",
     "text": [
      "Logistic, H1N1, cv ROC_AUC score:[0.83926775 0.8413195  0.85579801 0.82667306 0.84817786]\n",
      "Logistic, Seasonal, cv ROC_AUC score:[0.86101862 0.85841588 0.85376613 0.86606036 0.85903635]\n"
     ]
    }
   ],
   "source": [
    "# Seasonal Flu\n",
    "\n",
    "gbc_f_s = GradientBoostingClassifier(loss= 'exponential', learning_rate= .05, random_state = 14,\n",
    "                                                max_depth=3, max_features='log2', n_estimators=700)\n",
    "\n",
    "gbc_f_s.fit(X_train_imputed, y_train['seasonal_vaccine'])\n",
    "\n",
    "sea_gbc = cross_val_score(gbc_f_s, X_train_imputed, y_train['seasonal_vaccine'], scoring='roc_auc')\n",
    "\n",
    "print(f'Logistic, H1N1, cv ROC_AUC score:{h1n1_gbc}')\n",
    "print(f'Logistic, Seasonal, cv ROC_AUC score:{sea_gbc}')\n"
   ]
  },
  {
   "cell_type": "code",
   "execution_count": null,
   "metadata": {},
   "outputs": [],
   "source": []
  },
  {
   "cell_type": "code",
   "execution_count": null,
   "metadata": {},
   "outputs": [],
   "source": []
  },
  {
   "cell_type": "code",
   "execution_count": null,
   "metadata": {},
   "outputs": [],
   "source": []
  },
  {
   "cell_type": "markdown",
   "metadata": {},
   "source": [
    "### ROC curve"
   ]
  },
  {
   "cell_type": "markdown",
   "metadata": {},
   "source": [
    "#### H1N1"
   ]
  },
  {
   "cell_type": "code",
   "execution_count": 39,
   "metadata": {},
   "outputs": [],
   "source": [
    "# Get predicted probability \n",
    "\n",
    "# DT\n",
    "y_pred_h1_dt = dt_f.predict_proba(X_test_imputed)  # [:, 1] => Error \n",
    "\n",
    "# KNN\n",
    "\n",
    "y_pred_h1_knn = knn_f_h1.predict_proba(X_test_imputed) # [:, 1] => Error \n",
    "\n",
    "# Log\n",
    "y_pred_h1_log = log_f_h1.predict_proba(X_test_imputed)[:, 1]\n",
    "\n",
    "# GBC \n",
    "\n",
    "y_pred_h1_gbc = gbc_f_h1.predict_proba(X_test_imputed)[:, 1]\n"
   ]
  },
  {
   "cell_type": "code",
   "execution_count": 42,
   "metadata": {},
   "outputs": [],
   "source": [
    "# Get the FPR and TPR data\n",
    "\n",
    "# DT\n",
    "#fpr_dt, tpr_dt, thresholds_dt = roc_curve(y_test.h1n1_vaccine, y_pred_h1_dt)\n",
    "\n",
    "# KNN\n",
    "#fpr_knn, tpr_knn, thresholds_knn = roc_curve(y_test.h1n1_vaccine, y_pred_h1_knn)\n",
    "\n",
    "# Log\n",
    "fpr_log, tpr_log, thresholds_log = roc_curve(y_test.h1n1_vaccine, y_pred_h1_log)\n",
    "\n",
    "# GBC \n",
    "fpr_gbc, tpr_gbc, thresholds_gbc = roc_curve(y_test.h1n1_vaccine, y_pred_h1_gbc)\n",
    "\n"
   ]
  },
  {
   "cell_type": "code",
   "execution_count": 66,
   "metadata": {},
   "outputs": [
    {
     "data": {
      "image/png": "[encoded data removed]",
      "text/plain": [
       "<Figure size 1080x576 with 1 Axes>"
      ]
     },
     "metadata": {
      "needs_background": "light"
     },
     "output_type": "display_data"
    }
   ],
   "source": [
    "\n",
    "# Plot the FPR and TPR data\n",
    "\n",
    "fig, ax = plt.subplots(figsize=(15, 8))\n",
    "\n",
    "ax.plot(fpr_log, tpr_log, alpha =1, \n",
    "        label=f'Log: AUC ={round(roc_auc_score(y_test.h1n1_vaccine, y_pred_h1_log),4)}')\n",
    "\n",
    "ax.plot(fpr_gbc, tpr_gbc, alpha=1,\n",
    "       label=f'GBC: AUC ={round(roc_auc_score(y_test.h1n1_vaccine, y_pred_h1_gbc),4)}')\n",
    "\n",
    "ax.plot([0, 1], [0, 1], color='grey', linestyle='--')\n",
    "\n",
    "ax.set_ylabel('True Positive Rate', fontsize=15)\n",
    "ax.set_xlabel('False Positive Rate', fontsize=15)\n",
    "ax.set_title('H1N1 Vaccination Prediction', fontsize=15)\n",
    "    \n",
    "ax.legend(fontsize=15)\n",
    "\n",
    "plt.xticks(fontsize=15)\n",
    "plt.yticks(fontsize=15)\n",
    "plt.tight_layout();"
   ]
  },
  {
   "cell_type": "code",
   "execution_count": null,
   "metadata": {},
   "outputs": [],
   "source": []
  },
  {
   "cell_type": "markdown",
   "metadata": {},
   "source": [
    "#### Seasonal Flu"
   ]
  },
  {
   "cell_type": "code",
   "execution_count": 72,
   "metadata": {},
   "outputs": [],
   "source": [
    "# Get predicted probability \n",
    "\n",
    "# DT\n",
    "y_pred_s_dt = dt_f.predict_proba(X_test_imputed) #[:, 1]\n",
    "\n",
    "# KNN\n",
    "\n",
    "y_pred_s_knn = knn_f_s.predict_proba(X_test_imputed) #[:, 1]\n",
    "\n",
    "# Log\n",
    "y_pred_s_log = log_f_s.predict_proba(X_test_imputed)[:, 1]\n",
    "\n",
    "# GBC \n",
    "\n",
    "y_pred_s_gbc = gbc_f_s.predict_proba(X_test_imputed)[:, 1]\n"
   ]
  },
  {
   "cell_type": "code",
   "execution_count": 75,
   "metadata": {},
   "outputs": [],
   "source": [
    "# Get the FPR and TPR data\n",
    "\n",
    "# DT\n",
    "#fpr_dt, tpr_dt, thresholds_dt = roc_curve(y_test.seasonal_vaccine, y_pred_s_dt)\n",
    "\n",
    "# KNN\n",
    "#fpr_knn, tpr_knn, thresholds_knn = roc_curve(y_test.seasonal_vaccine, y_pred_s_knn)\n",
    "\n",
    "# Log\n",
    "fpr_log, tpr_log, thresholds_log = roc_curve(y_test.seasonal_vaccine, y_pred_s_log)\n",
    "\n",
    "# GBC \n",
    "fpr_gbc, tpr_gbc, thresholds_gbc = roc_curve(y_test.seasonal_vaccine, y_pred_s_gbc)\n",
    "\n"
   ]
  },
  {
   "cell_type": "code",
   "execution_count": 76,
   "metadata": {},
   "outputs": [
    {
     "data": {
      "image/png": "[encoded data removed]",
      "text/plain": [
       "<Figure size 1080x576 with 1 Axes>"
      ]
     },
     "metadata": {
      "needs_background": "light"
     },
     "output_type": "display_data"
    }
   ],
   "source": [
    "\n",
    "# Plot the FPR and TPR data\n",
    "\n",
    "fig, ax = plt.subplots(figsize=(15, 8))\n",
    "\n",
    "ax.plot(fpr_log, tpr_log, alpha =1, \n",
    "        label=f'Log: AUC ={round(roc_auc_score(y_test.seasonal_vaccine, y_pred_s_log),4)}')\n",
    "\n",
    "ax.plot(fpr_gbc, tpr_gbc, alpha=1,\n",
    "       label=f'GBC: AUC ={round(roc_auc_score(y_test.seasonal_vaccine, y_pred_s_gbc),4)}')\n",
    "\n",
    "ax.plot([0, 1], [0, 1], color='grey', linestyle='--')\n",
    "\n",
    "ax.set_ylabel('True Positive Rate', fontsize=15)\n",
    "ax.set_xlabel('False Positive Rate', fontsize=15)\n",
    "ax.set_title('Seasonal Influenza Vaccination Prediction', fontsize=15)\n",
    "    \n",
    "ax.legend(fontsize=15)\n",
    "\n",
    "plt.xticks(fontsize=15)\n",
    "plt.yticks(fontsize=15)\n",
    "plt.tight_layout();"
   ]
  },
  {
   "cell_type": "code",
   "execution_count": null,
   "metadata": {},
   "outputs": [],
   "source": []
  }
 ],
 "metadata": {
  "kernelspec": {
   "display_name": "Python (learn-env)",
   "language": "python",
   "name": "learn-env"
  },
  "language_info": {
   "codemirror_mode": {
    "name": "ipython",
    "version": 3
   },
   "file_extension": ".py",
   "mimetype": "text/x-python",
   "name": "python",
   "nbconvert_exporter": "python",
   "pygments_lexer": "ipython3",
   "version": "3.8.5"
  }
 },
 "nbformat": 4,
 "nbformat_minor": 4
}
